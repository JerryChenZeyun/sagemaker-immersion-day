{
 "cells": [
  {
   "cell_type": "markdown",
   "metadata": {},
   "source": [
    "![MLA Logo](https://drive.corp.amazon.com/view/mrruckma@/MLA_headerv2.png?download=true)"
   ]
  },
  {
   "cell_type": "markdown",
   "metadata": {},
   "source": [
    "## 1-Reading the data\n",
    "#### Let's read the uploaded image file. We will use this file throughout this notebook. We will use \"Scikit-image\" library to read the image and make changes to it."
   ]
  },
  {
   "cell_type": "code",
   "execution_count": null,
   "metadata": {},
   "outputs": [],
   "source": [
    "from matplotlib.pyplot import imread\n",
    "\n",
    "image = imread('../img/amazon_image.png')\n",
    "\n",
    "# Let's check the type of this image data\n",
    "print(\"Type:\", type(image))\n",
    "\n",
    "# See the shape of it\n",
    "print(\"Shape:\", image.shape)"
   ]
  },
  {
   "cell_type": "markdown",
   "metadata": {},
   "source": [
    "## 2-Showing the image\n",
    "#### We will use the \"matplotlib\" library. Let's plot the image below."
   ]
  },
  {
   "cell_type": "code",
   "execution_count": null,
   "metadata": {},
   "outputs": [],
   "source": [
    "import matplotlib.pyplot as plt\n",
    "\n",
    "plt.imshow(image)\n",
    "plt.show()"
   ]
  },
  {
   "cell_type": "markdown",
   "metadata": {},
   "source": [
    "Let's get three images for the three channels: Red, Green and Blue and plot them"
   ]
  },
  {
   "cell_type": "code",
   "execution_count": null,
   "metadata": {},
   "outputs": [],
   "source": [
    "import numpy as np\n",
    "import matplotlib.pyplot as plt\n",
    "\n",
    "fig=plt.figure(figsize=(14, 28))\n",
    "colors = {1: 'Red channel', 2: 'Green channel', 3:'Blue channel'}\n",
    "for i in range(0, 3):\n",
    "    # Get the corresponding color channel, last index is color index (channel)\n",
    "    image_channel = image[:, :, i]\n",
    "    fig.add_subplot(1, 3, i+1)\n",
    "    # Plot the channel image and add title\n",
    "    plt.imshow(image_channel, cmap='gray')\n",
    "    plt.title(colors[i+1])\n",
    "plt.show()"
   ]
  },
  {
   "cell_type": "markdown",
   "metadata": {},
   "source": [
    "## 3-Resizing Images\n",
    "#### We will use __resize()__ function to fit the images to a desired size. Our original image has __325 rows__ and __579 columns__. Let set the rows and columns to __120__ and __250__ respectively. "
   ]
  },
  {
   "cell_type": "code",
   "execution_count": null,
   "metadata": {},
   "outputs": [],
   "source": [
    "from skimage.transform import resize\n",
    "\n",
    "image = imread('../img/amazon_image.png')\n",
    "\n",
    "# Resized image\n",
    "resized_im = resize(image, output_shape=(120, 250))\n",
    "\n",
    "fig=plt.figure(figsize=(25, 50))\n",
    "\n",
    "# Plot original image\n",
    "fig.add_subplot(1, 2, 1)\n",
    "plt.imshow(image)\n",
    "plt.title(\"Original Image with size: \" + str(image.shape))\n",
    "\n",
    "# Plot resized image\n",
    "fig.add_subplot(1, 2, 2)\n",
    "plt.imshow(resized_im)\n",
    "plt.title(\"Resized Image with size: \" + str(resized_im.shape))\n",
    "\n",
    "plt.show()"
   ]
  }
 ],
 "metadata": {
  "kernelspec": {
   "display_name": "conda_python3",
   "language": "python",
   "name": "conda_python3"
  },
  "language_info": {
   "codemirror_mode": {
    "name": "ipython",
    "version": 3
   },
   "file_extension": ".py",
   "mimetype": "text/x-python",
   "name": "python",
   "nbconvert_exporter": "python",
   "pygments_lexer": "ipython3",
   "version": "3.6.5"
  }
 },
 "nbformat": 4,
 "nbformat_minor": 2
}
