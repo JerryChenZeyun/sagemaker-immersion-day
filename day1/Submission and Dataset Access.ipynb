{
 "cells": [
  {
   "cell_type": "markdown",
   "metadata": {},
   "source": [
    "## Computer Vision I Final Project\n",
    "\n",
    "In this walkthrough, we will look at reading training, test data and creating a submission file for your final project. Once you train your model and get your predictions, submit your model's .csv output to the class [Leaderboard](https://leaderboard.corp.amazon.com/tasks/312)"
   ]
  },
  {
   "cell_type": "markdown",
   "metadata": {},
   "source": [
    "## Set up SageMaker\n",
    "\n",
    "Are your models taking too long to train? Use a P2 instance as described in the README."
   ]
  },
  {
   "cell_type": "markdown",
   "metadata": {},
   "source": [
    "## Data Access\n",
    "\n",
    "In this part, we will see how to read training and test data"
   ]
  },
  {
   "cell_type": "markdown",
   "metadata": {},
   "source": [
    "## 1. Training data"
   ]
  },
  {
   "cell_type": "code",
   "execution_count": null,
   "metadata": {},
   "outputs": [],
   "source": [
    "#Let's read in our training data. ASINs correspond to those in Leaderboard's ID.\n",
    "import pandas as pd\n",
    "import urllib.request\n",
    "            \n",
    "urllib.request.urlretrieve (\n",
    "    \"https://d8mrh1kj01ho9.cloudfront.net/workshop/cv1/data/day1/training_data.pkl\",\n",
    "    \"/tmp/training_data.pkl\"\n",
    ")\n",
    "\n",
    "df = pd.read_pickle(\"/tmp/training_data.pkl\")"
   ]
  },
  {
   "cell_type": "code",
   "execution_count": null,
   "metadata": {},
   "outputs": [],
   "source": [
    "#Let's see what kind of data we're working with\n",
    "import matplotlib.pyplot as plt\n",
    "\n",
    "plt.imshow(df['data'][90])"
   ]
  },
  {
   "cell_type": "markdown",
   "metadata": {},
   "source": [
    "Our labels correspondend to the following:\n",
    "\n",
    "* Class 0: *Inconclusive*\n",
    "* Class 1: *Two wheels*\n",
    "* Class 2: *Four wheels*\n",
    "* Class 3: *Not luggage*\n",
    "* Class 4: *Zero wheels*"
   ]
  },
  {
   "cell_type": "code",
   "execution_count": null,
   "metadata": {},
   "outputs": [],
   "source": [
    "# Let's take a look at this data in more detail and then start working. Remember 'label' is our target variable/column\n",
    "df.loc[90]"
   ]
  },
  {
   "cell_type": "markdown",
   "metadata": {},
   "source": [
    "## 2. Test Data"
   ]
  },
  {
   "cell_type": "code",
   "execution_count": null,
   "metadata": {},
   "outputs": [],
   "source": [
    "# If you're unsure of how to submit to Leaderboard, no problemo.You'll use the training file loaded above to make your ML model and then predict on the files below:\n",
    "\n",
    "urllib.request.urlretrieve (\n",
    "    \"https://d8mrh1kj01ho9.cloudfront.net/workshop/cv1/data/day1/test_data.pkl\",\n",
    "    \"/tmp/test_data.pkl\"\n",
    ")\n",
    "test_df = pd.read_pickle(\"/tmp/test_data.pkl\")\n",
    "plt.imshow(test_df['data'][90])"
   ]
  },
  {
   "cell_type": "code",
   "execution_count": null,
   "metadata": {},
   "outputs": [],
   "source": [
    "test_df.head()"
   ]
  },
  {
   "cell_type": "markdown",
   "metadata": {},
   "source": [
    "## Sample zero submission file"
   ]
  },
  {
   "cell_type": "code",
   "execution_count": null,
   "metadata": {},
   "outputs": [],
   "source": [
    "# Below is an example submission of a very poor model\n",
    "\n",
    "urllib.request.urlretrieve (\n",
    "    \"https://d8mrh1kj01ho9.cloudfront.net/workshop/cv1/data/day1/sample_model_output.csv\",\n",
    "    \"/tmp/sample_model_output.csv\"\n",
    ")\n",
    "test_submission = pd.read_csv('/tmp/sample_model_output.csv', header=0)\n",
    "test_submission.head(5)"
   ]
  },
  {
   "cell_type": "markdown",
   "metadata": {},
   "source": [
    "## Your submission file"
   ]
  },
  {
   "cell_type": "code",
   "execution_count": null,
   "metadata": {},
   "outputs": [],
   "source": [
    "import pandas as pd\n",
    "import os\n",
    "\n",
    "result_df = pd.DataFrame(columns=['ID', 'label'])\n",
    "result_df[\"ID\"] = test_df[\"ID\"]\n",
    "# Get your model's predictions when submitting (not the zero submission here)\n",
    "result_df[\"label\"] = test_submission['label'].values\n",
    "\n",
    "result_df.to_csv(\"results_cv_project.csv\", index=False)"
   ]
  },
  {
   "cell_type": "markdown",
   "metadata": {},
   "source": [
    "If you navigate to the day1/results folder in the Jupyter file browser, you can select the results_cv_project.csv and dowload it locally. Or just click this [link...](./results_cv_project.csv)"
   ]
  },
  {
   "cell_type": "markdown",
   "metadata": {},
   "source": [
    "## Getting our model output into Leaderboard\n",
    "\n",
    "We now have our model's output .csv and are ready to upload to Leaderboard\n",
    "1. Search for your class [Leaderboard instance](https://leaderboard.corp.amazon.com/) and go to the 'Make a Submission' section\n",
    "2. Upload your local file and include your notebook version URL for tracking\n",
    "3. Your score on the public leaderboard should now appear. Marvel on how much room for improvement there is"
   ]
  }
 ],
 "metadata": {
  "kernelspec": {
   "display_name": "conda_amazonei_mxnet_p36",
   "language": "python",
   "name": "conda_amazonei_mxnet_p36"
  },
  "language_info": {
   "codemirror_mode": {
    "name": "ipython",
    "version": 3
   },
   "file_extension": ".py",
   "mimetype": "text/x-python",
   "name": "python",
   "nbconvert_exporter": "python",
   "pygments_lexer": "ipython3",
   "version": "3.6.5"
  }
 },
 "nbformat": 4,
 "nbformat_minor": 2
}
