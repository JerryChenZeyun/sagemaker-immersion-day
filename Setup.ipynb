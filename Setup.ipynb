{
 "cells": [
  {
   "cell_type": "markdown",
   "metadata": {},
   "source": [
    "# Setup SageMaker GPU\n",
    "\n",
    "This training course was adapted form the machine learning accelerator materials. It has been adapted to run outside of Eider.\n",
    "\n",
    "## SageMaker Limit Increase for GPU\n",
    "\n",
    "For the CV1 lab, we will be using GPU SageMaker notebook instances. You will need to request a limit increase +1 for a p2 instance.\n",
    "\n",
    "1. Increase your [SageMaker Limits](https://sagemaker-tools.corp.amazon.com/limits). If you already have a limit of 1 (not the default), you can skip this section.\n",
    "\n",
    "2. Enter your account and preferred region\n",
    "\n",
    "![Account and Region](img/limit_increase_screen1.png)\n",
    "\n",
    "3. Select Notebooks\n",
    "\n",
    "![Select Notebooks](img/limit_increase_screen2.png)\n",
    "\n",
    "4. Increase notebook-instance/ml.p2.xlarge limit to 1\n",
    "\n",
    "![Increase Limit](img/limit_increase_screen3.png)\n",
    "\n",
    "5. Set justification to \"ML TFC training for computer vision\"\n",
    "\n",
    "![Set Justification](img/limit_increase_screen4.png)\n",
    "\n",
    "6. Submit the form. You will receive an automated reply via email, and will immediately be able to spin up a notebook of that instance type."
   ]
  }
 ],
 "metadata": {
  "kernelspec": {
   "display_name": "conda_python3",
   "language": "python",
   "name": "conda_python3"
  },
  "language_info": {
   "codemirror_mode": {
    "name": "ipython",
    "version": 3
   },
   "file_extension": ".py",
   "mimetype": "text/x-python",
   "name": "python",
   "nbconvert_exporter": "python",
   "pygments_lexer": "ipython3",
   "version": "3.6.5"
  }
 },
 "nbformat": 4,
 "nbformat_minor": 4
}