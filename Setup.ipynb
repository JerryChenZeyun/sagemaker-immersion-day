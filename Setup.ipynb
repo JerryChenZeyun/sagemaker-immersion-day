{
 "cells": [
  {
   "cell_type": "markdown",
   "metadata": {},
   "source": [
    "# Setup SageMaker GPU\n",
    "\n",
    "This training course was adapted form the machine learning accelerator materials. It has been adapted to run outside of Eider.\n",
    "\n",
    "## SageMaker Limit Increase for GPU\n",
    "\n",
    "For the CV1 lab, we will be using GPU SageMaker notebook instances. You will need to request a limit increase +1 for a p2 instance.\n",
    "\n",
    "1. Increase your [SageMaker Limits](https://sagemaker-tools.corp.amazon.com/limits). If you already have a limit of 1 (not the default), you can skip this section.\n",
    "\n",
    "2. Enter your account and preferred region\n",
    "\n",
    "![Account and Region](img/limit_increase_screen1.png)\n",
    "\n",
    "3. Select Notebooks\n",
    "\n",
    "![Select Notebooks](img/limit_increase_screen2.png)\n",
    "\n",
    "4. Increase notebook-instance/ml.p2.xlarge limit to 1\n",
    "\n",
    "![Increase Limit](img/limit_increase_screen3.png)\n",
    "\n",
    "5. Set justification to \"ML TFC training for computer vision\"\n",
    "\n",
    "![Set Justification](img/limit_increase_screen4.png)\n",
    "\n",
    "6. Submit the form. You will receive an automated reply via email, and will immediately be able to spin up a notebook of that instance type.\n",
    "\n",
    "## Create SageMaker Notebook\n",
    "Now create a SageMaker notebook in the same region. Use the following settings:\n",
    "* Notebook instance name: tfc-training\n",
    "* Notebook instance type: ml.p2.xlarge\n",
    "* Additional configuration -> lifecycle configuration -> on start: Copy [this script](https://raw.githubusercontent.com/aws-samples/amazon-sagemaker-notebook-instance-lifecycle-config-samples/master/scripts/auto-stop-idle/on-start.sh) to insure the notebook will shut down automatically after 1 hour of idle time. \n",
    "![Shutdown Script](img/notebook_screen3.png)\n",
    "* IAM role - use default role\n",
    "![IAM Role](img/notebook_screen2.png)\n",
    "* Git repository -> Default repository -> Repository: \"Clone a public git repository\"\n",
    "* Git repository -> Default repository -> Git Repository Url: \"https://github.com/glyfnet/apac-tfc-training.git\"\n",
    "* Hit Create a notebook instance\n",
    "If you see resource limit exceeded error, check you increased limits in same region,a nd that you dont have any other notebooks of that instance type running.\n",
    "* Wait for the notebook to start. \n",
    "* Open with Jupyter. \n",
    "* You should see all the course notebooks pulled from the git repo.\n",
    "![Create Notebook](img/notebook_screen1.png)"
   ]
  }
 ],
 "metadata": {
  "kernelspec": {
   "display_name": "conda_python3",
   "language": "python",
   "name": "conda_python3"
  },
  "language_info": {
   "codemirror_mode": {
    "name": "ipython",
    "version": 3
   },
   "file_extension": ".py",
   "mimetype": "text/x-python",
   "name": "python",
   "nbconvert_exporter": "python",
   "pygments_lexer": "ipython3",
   "version": "3.6.5"
  }
 },
 "nbformat": 4,
 "nbformat_minor": 4
}
