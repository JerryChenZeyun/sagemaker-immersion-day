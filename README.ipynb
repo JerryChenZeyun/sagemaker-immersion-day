{
 "cells": [
  {
   "cell_type": "markdown",
   "metadata": {},
   "source": [
    "# APAC Machine Learning TFC Training\n",
    "This is a collection training resources used for new TFC members. The original git hub repository is [here](https://github.com/glyfnet/apac-tfc-training).\n",
    "\n",
    "## Setup\n",
    "Setup instructions are [here](Setup.ipynb). Each course may have a\n",
    "\n",
    "## Introduction to ML \n",
    "Skip this if you already did it!\n",
    "\n",
    "1. Watch all of the intro [videos](https://w.amazon.com/bin/view/MachineLearningUniversity/Video). \n",
    "3. Be sure to run additional setup steps for the course listed below.\n",
    "4. Add your name to the [roster sheet](https://quip-amazon.com/VKZiAgpGAutu/AAOD-Training). Contact the workshop leader for access issues.\n",
    "5. Make sure you have the office hours meeting invite.\n",
    "6. Make sure you are in added to the training chime room. \n",
    "7. Don't be shy. Come with questions to office hours sessions, or ask in chime room.\n",
    "\n",
    "> When working though notebooks, take the time to understand what every cell is doing. Read API docs, add your own code modifications, and go through related tutorials for new modules you have not worked with before. It is easy to just \"run\" though the notebook, but you will not learn anything by just clicking \"run\"!\n",
    "\n",
    "## Courses\n",
    "Follow the links below to begin one of the courses.\n",
    "\n",
    "* [Computer Visions 1](Computer_Vision_1/Instructions.ipynb)\n",
    "* [Natural Language Processing 1](Natural_Language_Processing_1/Instructions.ipynb)\n",
    "\n",
    "## Preparatory material\n",
    "(more available on the [MLA Wiki](https://w.amazon.com/bin/view/MLSciences/Community/Education/MLAccelerator/Resources/))\n",
    "* The [Matrix Calculus You Need for Deep Learning](http://explained.ai/matrix-calculus/index.html) - This paper is an attempt to explain all the matrix calculus you need in order to understand the training of deep neural networks. We assume no math knowledge beyond what you learned in calculus 1, and provide links to help you refresh the necessary math where needed. Note that you do not need to understand this material before you start learning to train and use deep learning in practice; rather, this material is for those who are already familiar with the basics of neural networks, and wish to deepen their understanding of the underlying math. Don't worry if you get stuck at some point along the way---just go back and reread the previous section, and try writing down and working through some examples.\n",
    "* [Learn Python, Basic Tutorials](https://www.tutorialspoint.com/python/) - This tutorial is designed for software programmers who need to learn Python programming language from scratch.\n",
    "* [Machine Learning Tips and Tricks Cheatsheet](https://stanford.edu/~shervine/teaching/cs-229/cheatsheet-machine-learning-tips-and-tricks) - Good habits and sanity checks to make sure that your model is trained the right way."
   ]
  },
  {
   "cell_type": "code",
   "execution_count": null,
   "metadata": {},
   "outputs": [],
   "source": [
    "    "
   ]
  }
 ],
 "metadata": {
  "kernelspec": {
   "display_name": "conda_python3",
   "language": "python",
   "name": "conda_python3"
  },
  "language_info": {
   "codemirror_mode": {
    "name": "ipython",
    "version": 3
   },
   "file_extension": ".py",
   "mimetype": "text/x-python",
   "name": "python",
   "nbconvert_exporter": "python",
   "pygments_lexer": "ipython3",
   "version": "3.6.5"
  }
 },
 "nbformat": 4,
 "nbformat_minor": 4
}
