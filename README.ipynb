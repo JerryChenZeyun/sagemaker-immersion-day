{
 "cells": [
  {
   "cell_type": "markdown",
   "metadata": {},
   "source": [
    "# APAC Machine Learning TFC Training\n",
    "This is a collection training resources used for new TFC members. The original git hub repository is [here](https://github.com/glyfnet/apac-tfc-training).\n",
    "\n",
    "## Setup\n",
    "Setup instructions are [here](Setup.ipynb).\n",
    "\n",
    "## Courses\n",
    "Follow the links below to begin one of the courses.\n",
    "\n",
    "* [Computer Visions 1](Computer_Vision_1/Instructions.ipynb)\n",
    "* [Natural Language Processing 1](Natural_Language_Processing_1/Instructions.ipynb)"
   ]
  },
  {
   "cell_type": "code",
   "execution_count": null,
   "metadata": {},
   "outputs": [],
   "source": [
    "    "
   ]
  }
 ],
 "metadata": {
  "kernelspec": {
   "display_name": "conda_python3",
   "language": "python",
   "name": "conda_python3"
  },
  "language_info": {
   "codemirror_mode": {
    "name": "ipython",
    "version": 3
   },
   "file_extension": ".py",
   "mimetype": "text/x-python",
   "name": "python",
   "nbconvert_exporter": "python",
   "pygments_lexer": "ipython3",
   "version": "3.6.5"
  }
 },
 "nbformat": 4,
 "nbformat_minor": 4
}
