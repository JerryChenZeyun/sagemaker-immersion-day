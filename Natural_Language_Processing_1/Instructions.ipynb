{
 "cells": [
  {
   "cell_type": "markdown",
   "metadata": {},
   "source": [
    "# Natural Language Processing 1 \n",
    "\n",
    "## New to ML Intro - Introduction to ML and Setup \n",
    "Skip this if you already did it!\n",
    "\n",
    "1. Watch all of the intro [videos](https://w.amazon.com/bin/view/MachineLearningUniversity/Video). \n",
    "2. [Set up SageMaker](../Setup.ipynb). \n",
    "3. Be sure to run additional setup steps for the course listed below.\n",
    "4. Add your name to the [roster sheet](https://quip-amazon.com/VKZiAgpGAutu/AAOD-Training). Contact the workshop leader for access issues.\n",
    "5. Make sure you have the office hours meeting invite.\n",
    "6. Make sure you are in added to the training chime room. \n",
    "7. Don't be shy. Come with questions to office hours sessions, or ask in chime room.\n",
    "\n",
    "> When working though notebooks, take the time to understand what every cell is doing. Read API docs, add your own code modifications, and go through related tutorials for new modules you have not worked with before. It is easy to just \"run\" though the notebook, but you will not learn anything by just clicking \"run\"!\n",
    "\n",
    "## Lesson 1 - 3\n",
    "Each day corresponds to a lesson. Follow thes instructions for each weeks lessons:\n",
    "https://mla.corp.amazon.com/ml-and-natural-language-processing/\n",
    "\n",
    "Lesson videos for each day are here:\n",
    "https://drive.corp.amazon.com/folders/MLU%20Lectures/MLA/NLP/May%204-6,%202020\n",
    "\n",
    "Use the upload functionality of this notebook to upload data sets and notebooks included above to this folder on your notebook server.\n",
    "\n",
    "## Additional Resources\n",
    "[Gluon NLP Tutorial](https://gluon-nlp.mxnet.io/examples/index.html)\n",
    "\n",
    "> Bonus points if you modify this repo and send a pull request..."
   ]
  },
  {
   "cell_type": "code",
   "execution_count": null,
   "metadata": {},
   "outputs": [],
   "source": []
  }
 ],
 "metadata": {
  "kernelspec": {
   "display_name": "conda_mxnet_p36",
   "language": "python",
   "name": "conda_mxnet_p36"
  },
  "language_info": {
   "codemirror_mode": {
    "name": "ipython",
    "version": 3
   },
   "file_extension": ".py",
   "mimetype": "text/x-python",
   "name": "python",
   "nbconvert_exporter": "python",
   "pygments_lexer": "ipython3",
   "version": "3.6.5"
  }
 },
 "nbformat": 4,
 "nbformat_minor": 4
}
