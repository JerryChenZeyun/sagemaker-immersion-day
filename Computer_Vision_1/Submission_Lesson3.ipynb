{
 "cells": [
  {
   "cell_type": "code",
   "execution_count": 1,
   "metadata": {
    "scrolled": true
   },
   "outputs": [],
   "source": [
    "# For easier dev of local modules:\n",
    "%load_ext autoreload\n",
    "%autoreload 2\n",
    "%matplotlib widget"
   ]
  },
  {
   "cell_type": "code",
   "execution_count": 2,
   "metadata": {},
   "outputs": [
    {
     "name": "stdout",
     "output_type": "stream",
     "text": [
      "/home/ec2-user/SageMaker\n"
     ]
    }
   ],
   "source": [
    "\n",
    "import os, sys\n",
    "\n",
    "# Initialize my ml_toolkit which is cloned to this instance\n",
    "path = os.path.abspath(os.path.join(os.path.dirname('../../..')))\n",
    "print(path)\n",
    "sys.path.append(path)\n",
    "import ml_toolkit as utils\n",
    "\n",
    "from ml_toolkit.visualization import Visualization\n",
    "visualization = Visualization()"
   ]
  },
  {
   "cell_type": "markdown",
   "metadata": {},
   "source": [
    "## Computer Vision I Final Project\n",
    "\n",
    "In this walkthrough, we will look at reading training, test data and creating a submission file for your final project. Once you train your model and get your predictions, submit your model's .csv output to the class [Leaderboard](https://leaderboard.corp.amazon.com/tasks/312)"
   ]
  },
  {
   "cell_type": "markdown",
   "metadata": {},
   "source": [
    "## 1. Load training data and convert"
   ]
  },
  {
   "cell_type": "code",
   "execution_count": 3,
   "metadata": {},
   "outputs": [
    {
     "name": "stdout",
     "output_type": "stream",
     "text": [
      "conversion exists :-) loading it...\n"
     ]
    }
   ],
   "source": [
    "import pandas as pd\n",
    "import os.path\n",
    "import ml_toolkit as utils\n",
    "\n",
    "\n",
    "file_folder = '/home/ec2-user/SageMaker'\n",
    "\n",
    "conversion_exists = True\n",
    "conversion_exists &= os.path.isfile(file_folder+'/train.pkl')\n",
    "conversion_exists &= os.path.isfile(file_folder+'/val.pkl')\n",
    "\n",
    "if not conversion_exists:\n",
    "    print(\"conversion doesn't exists, converting...\")\n",
    "    df = pd.read_pickle('/tmp/training_data.pkl')\n",
    "    train_df, validation_df = utils.images.split_convert_and_write(df, folder=file_folder)\n",
    "else:\n",
    "    print(\"conversion exists :-) loading it...\")\n",
    "    train_df, validation_df = utils.data.load_train_validation_pickle(file_folder)\n"
   ]
  },
  {
   "cell_type": "code",
   "execution_count": 4,
   "metadata": {},
   "outputs": [
    {
     "data": {
      "text/html": [
       "<div>\n",
       "<style scoped>\n",
       "    .dataframe tbody tr th:only-of-type {\n",
       "        vertical-align: middle;\n",
       "    }\n",
       "\n",
       "    .dataframe tbody tr th {\n",
       "        vertical-align: top;\n",
       "    }\n",
       "\n",
       "    .dataframe thead th {\n",
       "        text-align: right;\n",
       "    }\n",
       "</style>\n",
       "<table border=\"1\" class=\"dataframe\">\n",
       "  <thead>\n",
       "    <tr style=\"text-align: right;\">\n",
       "      <th></th>\n",
       "      <th>ID</th>\n",
       "      <th>data</th>\n",
       "      <th>label</th>\n",
       "    </tr>\n",
       "  </thead>\n",
       "  <tbody>\n",
       "    <tr>\n",
       "      <th>0</th>\n",
       "      <td>1588</td>\n",
       "      <td>[[[1.0, 1.0, 1.0, 1.0, 1.0, 1.0, 1.0, 1.0, 1.0...</td>\n",
       "      <td>4</td>\n",
       "    </tr>\n",
       "    <tr>\n",
       "      <th>1</th>\n",
       "      <td>2011</td>\n",
       "      <td>[[[1.0, 1.0, 1.0, 1.0, 1.0, 1.0, 1.0, 1.0, 1.0...</td>\n",
       "      <td>1</td>\n",
       "    </tr>\n",
       "    <tr>\n",
       "      <th>2</th>\n",
       "      <td>1321</td>\n",
       "      <td>[[[1.0, 1.0, 1.0, 1.0, 1.0, 1.0, 1.0, 1.0, 1.0...</td>\n",
       "      <td>4</td>\n",
       "    </tr>\n",
       "    <tr>\n",
       "      <th>3</th>\n",
       "      <td>669</td>\n",
       "      <td>[[[1.0, 1.0, 1.0, 1.0, 1.0, 1.0, 1.0, 1.0, 1.0...</td>\n",
       "      <td>3</td>\n",
       "    </tr>\n",
       "    <tr>\n",
       "      <th>4</th>\n",
       "      <td>1674</td>\n",
       "      <td>[[[0.99607843, 0.99607843, 0.99607843, 0.99607...</td>\n",
       "      <td>1</td>\n",
       "    </tr>\n",
       "  </tbody>\n",
       "</table>\n",
       "</div>"
      ],
      "text/plain": [
       "     ID                                               data  label\n",
       "0  1588  [[[1.0, 1.0, 1.0, 1.0, 1.0, 1.0, 1.0, 1.0, 1.0...      4\n",
       "1  2011  [[[1.0, 1.0, 1.0, 1.0, 1.0, 1.0, 1.0, 1.0, 1.0...      1\n",
       "2  1321  [[[1.0, 1.0, 1.0, 1.0, 1.0, 1.0, 1.0, 1.0, 1.0...      4\n",
       "3   669  [[[1.0, 1.0, 1.0, 1.0, 1.0, 1.0, 1.0, 1.0, 1.0...      3\n",
       "4  1674  [[[0.99607843, 0.99607843, 0.99607843, 0.99607...      1"
      ]
     },
     "execution_count": 4,
     "metadata": {},
     "output_type": "execute_result"
    }
   ],
   "source": [
    "train_dataset, validation_dataset = utils.images.prepare_dataset_with_gluon(train_df, validation_df)\n",
    "train_df.head()"
   ]
  },
  {
   "cell_type": "markdown",
   "metadata": {},
   "source": [
    "## Plot the class distribution"
   ]
  },
  {
   "cell_type": "code",
   "execution_count": 5,
   "metadata": {},
   "outputs": [
    {
     "data": {
      "application/vnd.jupyter.widget-view+json": {
       "model_id": "9f6e294f99a24426ab4b08b82aa94cd1",
       "version_major": 2,
       "version_minor": 0
      },
      "text/plain": [
       "Canvas(toolbar=Toolbar(toolitems=[('Home', 'Reset original view', 'home', 'home'), ('Back', 'Back to previous …"
      ]
     },
     "metadata": {},
     "output_type": "display_data"
    }
   ],
   "source": [
    "train_labels = train_df['label'].values\n",
    "utils.visualization.draw_class_distribution(train_labels)"
   ]
  },
  {
   "cell_type": "code",
   "execution_count": 6,
   "metadata": {},
   "outputs": [
    {
     "data": {
      "application/vnd.jupyter.widget-view+json": {
       "model_id": "4a56c9c3a6224f97a8e6f620bb803c7d",
       "version_major": 2,
       "version_minor": 0
      },
      "text/plain": [
       "Canvas(toolbar=Toolbar(toolitems=[('Home', 'Reset original view', 'home', 'home'), ('Back', 'Back to previous …"
      ]
     },
     "metadata": {},
     "output_type": "display_data"
    }
   ],
   "source": [
    "validation_labels = validation_df['label'].values\n",
    "utils.visualization.draw_class_distribution(validation_labels)"
   ]
  },
  {
   "cell_type": "code",
   "execution_count": 8,
   "metadata": {},
   "outputs": [
    {
     "data": {
      "application/vnd.jupyter.widget-view+json": {
       "model_id": "dfea3096c816404a8c68a986ea6cfbad",
       "version_major": 2,
       "version_minor": 0
      },
      "text/plain": [
       "Canvas(toolbar=Toolbar(toolitems=[('Home', 'Reset original view', 'home', 'home'), ('Back', 'Back to previous …"
      ]
     },
     "metadata": {},
     "output_type": "display_data"
    }
   ],
   "source": [
    "train_df = utils.image.augment.generate_augmented_images(train_df, \n",
    "                                                         with_rotate=True, \n",
    "                                                         rotations=[30, -30],\n",
    "                                                         with_random_noise=True, \n",
    "                                                         with_flip=True, \n",
    "                                                         flips=[1]\n",
    "                                                        )\n",
    "train_labels = train_df['label'].values\n",
    "utils.visualization.draw_class_distribution(train_labels)"
   ]
  },
  {
   "cell_type": "code",
   "execution_count": 9,
   "metadata": {},
   "outputs": [
    {
     "data": {
      "application/vnd.jupyter.widget-view+json": {
       "model_id": "f791ee0930c944bb8cec541b5aa019de",
       "version_major": 2,
       "version_minor": 0
      },
      "text/plain": [
       "Canvas(toolbar=Toolbar(toolitems=[('Home', 'Reset original view', 'home', 'home'), ('Back', 'Back to previous …"
      ]
     },
     "metadata": {},
     "output_type": "display_data"
    }
   ],
   "source": [
    "\n",
    "train_df = utils.image.upsample.upsample(train_df, train_df['label'], [0,1,2,3,4])\n",
    "train_labels = train_df['label'].values\n",
    "utils.visualization.draw_class_distribution(train_labels)"
   ]
  },
  {
   "cell_type": "markdown",
   "metadata": {},
   "source": [
    "## Training and Validation"
   ]
  },
  {
   "cell_type": "code",
   "execution_count": 10,
   "metadata": {},
   "outputs": [
    {
     "name": "stdout",
     "output_type": "stream",
     "text": [
      "Downloading /home/ec2-user/.mxnet/models/alexnet-44335d1f.zip46a2d09d-b983-4cca-a2f4-8dbafb57cbd1 from https://apache-mxnet.s3-accelerate.dualstack.amazonaws.com/gluon/models/alexnet-44335d1f.zip...\n",
      "Epoch 0, training loss: 1.37, validation loss: 0.96, training accuracy: 0.37, validation accuracy: 0.69\n",
      "Epoch 1, training loss: 0.98, validation loss: 0.69, training accuracy: 0.58, validation accuracy: 0.74\n",
      "Epoch 2, training loss: 0.76, validation loss: 0.89, training accuracy: 0.68, validation accuracy: 0.72\n",
      "Epoch 3, training loss: 0.63, validation loss: 0.68, training accuracy: 0.73, validation accuracy: 0.76\n",
      "Epoch 4, training loss: 0.52, validation loss: 0.76, training accuracy: 0.78, validation accuracy: 0.77\n",
      "Epoch 5, training loss: 0.45, validation loss: 0.71, training accuracy: 0.81, validation accuracy: 0.77\n",
      "Epoch 6, training loss: 0.38, validation loss: 0.73, training accuracy: 0.84, validation accuracy: 0.81\n",
      "Epoch 7, training loss: 0.33, validation loss: 0.90, training accuracy: 0.86, validation accuracy: 0.76\n",
      "Epoch 8, training loss: 0.28, validation loss: 0.85, training accuracy: 0.88, validation accuracy: 0.78\n",
      "Epoch 9, training loss: 0.24, validation loss: 0.94, training accuracy: 0.90, validation accuracy: 0.79\n",
      "Epoch 10, training loss: 0.20, validation loss: 0.96, training accuracy: 0.92, validation accuracy: 0.79\n",
      "Epoch 11, training loss: 0.18, validation loss: 1.06, training accuracy: 0.93, validation accuracy: 0.80\n",
      "Epoch 12, training loss: 0.16, validation loss: 0.86, training accuracy: 0.94, validation accuracy: 0.81\n",
      "Epoch 13, training loss: 0.14, validation loss: 0.90, training accuracy: 0.95, validation accuracy: 0.80\n",
      "Epoch 14, training loss: 0.11, validation loss: 0.99, training accuracy: 0.96, validation accuracy: 0.79\n",
      "Epoch 15, training loss: 0.12, validation loss: 1.05, training accuracy: 0.96, validation accuracy: 0.79\n",
      "Epoch 16, training loss: 0.08, validation loss: 1.19, training accuracy: 0.97, validation accuracy: 0.78\n",
      "Epoch 17, training loss: 0.08, validation loss: 1.41, training accuracy: 0.97, validation accuracy: 0.77\n",
      "Epoch 18, training loss: 0.06, validation loss: 1.14, training accuracy: 0.98, validation accuracy: 0.74\n",
      "Epoch 19, training loss: 0.06, validation loss: 1.51, training accuracy: 0.98, validation accuracy: 0.76\n"
     ]
    }
   ],
   "source": [
    "import mxnet as mx\n",
    "# Set this to CPU or GPU depending on your training instance\n",
    "# ctx = mx.cpu()\n",
    "ctx = mx.gpu()\n",
    "\n",
    "epochs = 20\n",
    "batch_size = 16\n",
    "learning_rate = 0.01\n",
    "class_labels = ['Inconclusive', 'Two wheels', 'Four wheels', 'Not luggage', 'Zero wheels']\n",
    "\n",
    "# Create the network. We have 5 classes\n",
    "num_outputs = 5\n",
    "\n",
    "net = utils.mxnet.network.build_alexnet_network(ctx, num_outputs)\n",
    "# net = utils.mxnet.network.build_vgg16_network(ctx, num_outputs)\n",
    "\n",
    "utils.mxnet.training.train(ctx, net, 'sgd', learning_rate, batch_size, epochs, train_df, validation_df)"
   ]
  },
  {
   "cell_type": "markdown",
   "metadata": {},
   "source": [
    "## 2. Test Data"
   ]
  },
  {
   "cell_type": "code",
   "execution_count": 14,
   "metadata": {},
   "outputs": [
    {
     "data": {
      "text/plain": [
       "<matplotlib.image.AxesImage at 0x7f8021a1a160>"
      ]
     },
     "execution_count": 14,
     "metadata": {},
     "output_type": "execute_result"
    }
   ],
   "source": [
    "# If you're unsure of how to submit to Leaderboard, no problemo.You'll use the training file loaded above to make your ML model and then predict on the files below:\n",
    "import matplotlib.pyplot as plt\n",
    "test_df = pd.read_pickle(\"/tmp/test_data.pkl\")\n",
    "plt.imshow(test_df['data'][90])"
   ]
  },
  {
   "cell_type": "code",
   "execution_count": 15,
   "metadata": {},
   "outputs": [
    {
     "data": {
      "text/html": [
       "<div>\n",
       "<style scoped>\n",
       "    .dataframe tbody tr th:only-of-type {\n",
       "        vertical-align: middle;\n",
       "    }\n",
       "\n",
       "    .dataframe tbody tr th {\n",
       "        vertical-align: top;\n",
       "    }\n",
       "\n",
       "    .dataframe thead th {\n",
       "        text-align: right;\n",
       "    }\n",
       "</style>\n",
       "<table border=\"1\" class=\"dataframe\">\n",
       "  <thead>\n",
       "    <tr style=\"text-align: right;\">\n",
       "      <th></th>\n",
       "      <th>ID</th>\n",
       "      <th>data</th>\n",
       "    </tr>\n",
       "  </thead>\n",
       "  <tbody>\n",
       "    <tr>\n",
       "      <th>0</th>\n",
       "      <td>1453</td>\n",
       "      <td>[[[255, 255, 255], [255, 255, 255], [255, 255,...</td>\n",
       "    </tr>\n",
       "    <tr>\n",
       "      <th>1</th>\n",
       "      <td>655</td>\n",
       "      <td>[[[255, 255, 255], [255, 255, 255], [255, 255,...</td>\n",
       "    </tr>\n",
       "    <tr>\n",
       "      <th>2</th>\n",
       "      <td>1178</td>\n",
       "      <td>[[[255, 255, 255], [255, 255, 255], [255, 255,...</td>\n",
       "    </tr>\n",
       "    <tr>\n",
       "      <th>3</th>\n",
       "      <td>548</td>\n",
       "      <td>[[[255, 255, 255], [255, 255, 255], [255, 255,...</td>\n",
       "    </tr>\n",
       "    <tr>\n",
       "      <th>4</th>\n",
       "      <td>1547</td>\n",
       "      <td>[[[255, 255, 255], [255, 255, 255], [255, 255,...</td>\n",
       "    </tr>\n",
       "  </tbody>\n",
       "</table>\n",
       "</div>"
      ],
      "text/plain": [
       "     ID                                               data\n",
       "0  1453  [[[255, 255, 255], [255, 255, 255], [255, 255,...\n",
       "1   655  [[[255, 255, 255], [255, 255, 255], [255, 255,...\n",
       "2  1178  [[[255, 255, 255], [255, 255, 255], [255, 255,...\n",
       "3   548  [[[255, 255, 255], [255, 255, 255], [255, 255,...\n",
       "4  1547  [[[255, 255, 255], [255, 255, 255], [255, 255,..."
      ]
     },
     "execution_count": 15,
     "metadata": {},
     "output_type": "execute_result"
    }
   ],
   "source": [
    "test_df.head()"
   ]
  },
  {
   "cell_type": "markdown",
   "metadata": {},
   "source": [
    "## Sample zero submission file"
   ]
  },
  {
   "cell_type": "code",
   "execution_count": 16,
   "metadata": {},
   "outputs": [
    {
     "data": {
      "text/html": [
       "<div>\n",
       "<style scoped>\n",
       "    .dataframe tbody tr th:only-of-type {\n",
       "        vertical-align: middle;\n",
       "    }\n",
       "\n",
       "    .dataframe tbody tr th {\n",
       "        vertical-align: top;\n",
       "    }\n",
       "\n",
       "    .dataframe thead th {\n",
       "        text-align: right;\n",
       "    }\n",
       "</style>\n",
       "<table border=\"1\" class=\"dataframe\">\n",
       "  <thead>\n",
       "    <tr style=\"text-align: right;\">\n",
       "      <th></th>\n",
       "      <th>ID</th>\n",
       "      <th>label</th>\n",
       "    </tr>\n",
       "  </thead>\n",
       "  <tbody>\n",
       "    <tr>\n",
       "      <th>0</th>\n",
       "      <td>1453</td>\n",
       "      <td>0.0</td>\n",
       "    </tr>\n",
       "    <tr>\n",
       "      <th>1</th>\n",
       "      <td>655</td>\n",
       "      <td>0.0</td>\n",
       "    </tr>\n",
       "    <tr>\n",
       "      <th>2</th>\n",
       "      <td>1178</td>\n",
       "      <td>0.0</td>\n",
       "    </tr>\n",
       "    <tr>\n",
       "      <th>3</th>\n",
       "      <td>548</td>\n",
       "      <td>0.0</td>\n",
       "    </tr>\n",
       "    <tr>\n",
       "      <th>4</th>\n",
       "      <td>1547</td>\n",
       "      <td>0.0</td>\n",
       "    </tr>\n",
       "  </tbody>\n",
       "</table>\n",
       "</div>"
      ],
      "text/plain": [
       "     ID  label\n",
       "0  1453    0.0\n",
       "1   655    0.0\n",
       "2  1178    0.0\n",
       "3   548    0.0\n",
       "4  1547    0.0"
      ]
     },
     "execution_count": 16,
     "metadata": {},
     "output_type": "execute_result"
    }
   ],
   "source": [
    "# Below is an example submission of a very poor model\n",
    "\n",
    "test_submission = pd.read_csv('/tmp/sample_model_output.csv', header=0)\n",
    "test_submission.head(5)"
   ]
  },
  {
   "cell_type": "code",
   "execution_count": 19,
   "metadata": {},
   "outputs": [],
   "source": [
    "from skimage.transform import resize\n",
    "def getImages(images):\n",
    "    # Create the image holder array\n",
    "    image_arr = np.zeros((images.shape[0], 3, 224, 224), dtype=\"float32\")\n",
    "    extra_images = []\n",
    "    \n",
    "    # Iterate through the image data\n",
    "    for i, im in enumerate(images):\n",
    "        # Get image from the data column of the current row\n",
    "        \n",
    "        # We need a fixed size input, our images have different sizes, let's pick 224x224.\n",
    "        # Resize image below\n",
    "        im = resize(im, output_shape=(224, 224))\n",
    "        \n",
    "        # Gluon/mxnet expects images in this format (channel, row, column)\n",
    "        # This is the opposite of (row, column, channel), let's fix it\n",
    "        im = np.moveaxis(im, -1, 0)\n",
    "        \n",
    "        # Assign the value in the image array\n",
    "        image_arr[i] = im\n",
    "    return (image_arr)"
   ]
  },
  {
   "cell_type": "code",
   "execution_count": 22,
   "metadata": {},
   "outputs": [
    {
     "name": "stdout",
     "output_type": "stream",
     "text": [
      "[4, 1, 4, 1, 2, 1, 0, 1, 4, 3, 2, 4, 2, 1, 1, 4, 4, 1, 4, 1, 3, 4, 1, 1, 0, 2, 1, 1, 1, 1, 1, 3, 4, 2, 1, 0, 2, 3, 3, 2, 2, 4, 2, 4, 1, 2, 2, 1, 2, 4, 1, 4, 1, 2, 1, 1, 4, 2, 2, 1, 1, 4, 4, 4, 2, 0, 1, 1, 1, 2, 4, 2, 4, 1, 4, 4, 4, 4, 1, 2, 4, 2, 1, 4, 4, 4, 1, 1, 2, 3, 1, 1, 1, 2, 2, 2, 1, 1, 2, 4, 1, 1, 4, 2, 1, 2, 2, 1, 1, 1, 1, 1, 1, 2, 1, 2, 2, 2, 2, 1, 2, 2, 2, 2, 2, 1, 1, 1, 4, 1, 4, 1, 2, 4, 2, 0, 1, 1, 2, 4, 2, 4, 4, 0, 2, 1, 4, 2, 2, 2, 2, 3, 4, 2, 1, 4, 1, 4, 3, 4, 4, 1, 1, 2, 2, 4, 4, 1, 4, 2, 2, 2, 2, 2, 4, 4, 3, 2, 0, 4, 2, 1, 1, 2, 1, 2, 4, 4, 2, 4, 4, 2, 1, 1, 4, 4, 1, 1, 1, 1, 2, 1, 2, 2, 1, 2, 1, 3, 4, 4, 2, 2, 2, 2, 2, 0, 2, 2, 4, 4, 1, 0, 2, 2, 4, 4, 2, 4, 1, 1, 2, 2, 1, 1, 1, 4, 4, 4, 1, 1, 1, 1, 2, 2, 1, 1, 2, 2, 4, 2, 2, 1, 4, 2, 1, 1, 4, 4, 1, 2, 4, 1, 1, 1, 4, 2, 1, 2, 2, 1, 1, 4, 2, 2, 4, 1, 2, 1, 4, 4, 2, 2, 2, 1, 4, 1, 2, 0, 1, 1, 1, 1, 2, 1, 1, 3, 2, 1, 2, 2, 1, 2, 2, 1, 4, 1, 1, 1, 4, 0, 2, 4, 2, 1, 2, 2, 1, 2, 1, 1, 4, 1, 2, 1, 2, 0, 2, 0, 2, 2, 2, 4, 4, 2, 1, 1, 2, 1, 4, 1, 1, 2, 4, 2, 1, 4, 2, 4, 2, 4, 4, 4, 4, 2, 1, 2, 4, 2, 1, 0, 4, 3, 1, 2, 0, 1, 2, 1, 2, 4, 1, 4, 4, 1, 4, 1, 1, 2, 2, 2, 2, 2, 1, 2, 2, 4, 2, 2, 1, 2, 1, 1, 4, 3, 1, 4, 1, 2, 4, 1, 1, 4, 1, 2, 1, 2, 1, 1, 4, 1, 1, 1, 2, 1, 2, 2, 2, 1, 4, 4, 1, 2, 2, 2, 2, 4, 1, 4, 4, 4, 2, 4, 2, 4, 2, 4, 2, 2, 1, 1, 2, 2, 2, 4, 0, 2, 1, 3, 4]\n"
     ]
    }
   ],
   "source": [
    "import numpy as np\n",
    "from mxnet import gluon\n",
    "\n",
    "test_images = getImages(test_df[\"data\"].values)\n",
    "test_loader = gluon.data.DataLoader(test_images, batch_size=batch_size)\n",
    "\n",
    "test_predictions = []\n",
    "for i, data in enumerate(test_loader):\n",
    "    data = data.as_in_context(ctx)\n",
    "    output = net(data)\n",
    "    test_predictions = test_predictions + np.argmax(output.asnumpy(), axis=1).tolist()\n",
    "print(test_predictions)"
   ]
  },
  {
   "cell_type": "markdown",
   "metadata": {},
   "source": [
    "## Your submission file"
   ]
  },
  {
   "cell_type": "code",
   "execution_count": 23,
   "metadata": {},
   "outputs": [],
   "source": [
    "import pandas as pd\n",
    "import os\n",
    "\n",
    "result_df = pd.DataFrame(columns=['ID', 'label'])\n",
    "result_df[\"ID\"] = test_df[\"ID\"]\n",
    "# Get your model's predictions when submitting (not the zero submission here)\n",
    "result_df[\"label\"] = test_predictions #test_submission['label'].values\n",
    "\n",
    "result_df.to_csv(\"results_cv_project.csv\", index=False)"
   ]
  },
  {
   "cell_type": "markdown",
   "metadata": {},
   "source": [
    "If you navigate to the day1/results folder in the Jupyter file browser, you can select the results_cv_project.csv and dowload it locally. Or just click this [link...](./results_cv_project.csv)"
   ]
  },
  {
   "cell_type": "markdown",
   "metadata": {},
   "source": [
    "## Getting our model output into Leaderboard\n",
    "\n",
    "We now have our model's output .csv and are ready to upload to Leaderboard\n",
    "1. Go to your class [Leaderboard instance](https://leaderboard.corp.amazon.com/tasks/312) and go to the 'Make a Submission' section\n",
    "2. Upload your local file and include your notebook version URL for tracking\n",
    "3. Your score on the public leaderboard should now appear. Marvel on how much room for improvement there is"
   ]
  },
  {
   "cell_type": "code",
   "execution_count": null,
   "metadata": {},
   "outputs": [],
   "source": []
  }
 ],
 "metadata": {
  "kernelspec": {
   "display_name": "conda_mxnet_p36",
   "language": "python",
   "name": "conda_mxnet_p36"
  },
  "language_info": {
   "codemirror_mode": {
    "name": "ipython",
    "version": 3
   },
   "file_extension": ".py",
   "mimetype": "text/x-python",
   "name": "python",
   "nbconvert_exporter": "python",
   "pygments_lexer": "ipython3",
   "version": "3.6.5"
  }
 },
 "nbformat": 4,
 "nbformat_minor": 4
}
