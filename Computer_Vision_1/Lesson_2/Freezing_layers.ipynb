{
 "cells": [
  {
   "cell_type": "markdown",
   "metadata": {},
   "source": [
    "Let's load a pre-trained Alexnet"
   ]
  },
  {
   "cell_type": "code",
   "execution_count": null,
   "metadata": {},
   "outputs": [],
   "source": [
    "from mxnet.gluon.model_zoo import vision\n",
    "import mxnet as mx\n",
    "\n",
    "num_outputs = 5\n",
    "\n",
    "# change for cpu or gpu\n",
    "ctx = mx.cpu()\n",
    "#ctx = mx.gpu()\n",
    "\n",
    "# Let's get the pre-trained network and copy weights\n",
    "pre_trained_net = vision.alexnet(pretrained=True, ctx=ctx)\n",
    "net = vision.alexnet(classes=num_outputs, ctx=ctx)\n",
    "net.collect_params().initialize(mx.init.Xavier(magnitude=2.24), ctx=ctx)\n",
    "net.features = pre_trained_net.features\n"
   ]
  },
  {
   "cell_type": "markdown",
   "metadata": {},
   "source": [
    "The following code piece prints the weights for each layer.It also shows the layer name and its shape."
   ]
  },
  {
   "cell_type": "code",
   "execution_count": null,
   "metadata": {},
   "outputs": [],
   "source": [
    "for param in net.collect_params().values():\n",
    "    print(param)"
   ]
  },
  {
   "cell_type": "markdown",
   "metadata": {},
   "source": [
    "Let's freeze all the layers until the flly connected layers (\"Dense layers\"). We can simply search for \"conv\" in the name of layer. "
   ]
  },
  {
   "cell_type": "code",
   "execution_count": null,
   "metadata": {},
   "outputs": [],
   "source": [
    "# You can freeze some layers using the code below \n",
    "for param in net.collect_params().values(): # Or some other layers that you want. \n",
    "    if \"conv\" in param.name:\n",
    "        param.grad_req = 'null'"
   ]
  },
  {
   "cell_type": "code",
   "execution_count": null,
   "metadata": {},
   "outputs": [],
   "source": [
    "for param in net.collect_params().values():\n",
    "    print(param, param.grad_req)"
   ]
  }
 ],
 "metadata": {
  "kernelspec": {
   "display_name": "conda_mxnet_p36",
   "language": "python",
   "name": "conda_mxnet_p36"
  },
  "language_info": {
   "codemirror_mode": {
    "name": "ipython",
    "version": 3
   },
   "file_extension": ".py",
   "mimetype": "text/x-python",
   "name": "python",
   "nbconvert_exporter": "python",
   "pygments_lexer": "ipython3",
   "version": "3.6.5"
  }
 },
 "nbformat": 4,
 "nbformat_minor": 2
}
