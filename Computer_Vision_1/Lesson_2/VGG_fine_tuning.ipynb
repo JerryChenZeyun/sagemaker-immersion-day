{
 "cells": [
  {
   "cell_type": "markdown",
   "metadata": {},
   "source": [
    "Let's import the pretrained VGG-16 network from Gluon model zoo. There are a few steps to get this working.\n",
    "\n",
    "* We get the petrained model (pre_trained_net) with vision.vgg16(pretrained=True, ctx=ctx)\n",
    "* Get a not-trained VGG16 net (net).\n",
    "* Move features from pre-trained to not-trained network.\n",
    "\n",
    "This new network (net) will have the weights of the VGG16 network trained previously on ImageNet dataset (1000 classes). The output size is also converted to our problem class size (5 classes). \n",
    "\n",
    "See a list of all MXnet/Gluon pre-trained models here: [pretrained models](https://mxnet.apache.org/api/python/docs/api/gluon/mxnet.gluon.model_zoo.html#vision)"
   ]
  },
  {
   "cell_type": "code",
   "execution_count": 1,
   "metadata": {},
   "outputs": [
    {
     "name": "stdout",
     "output_type": "stream",
     "text": [
      "Downloading /home/ec2-user/.mxnet/models/vgg16-e660d456.zipf2e2301e-fd67-4f10-9159-6cb7021df489 from https://apache-mxnet.s3-accelerate.dualstack.amazonaws.com/gluon/models/vgg16-e660d456.zip...\n"
     ]
    }
   ],
   "source": [
    "from mxnet.gluon.model_zoo import vision\n",
    "import mxnet as mx\n",
    "\n",
    "# Set this to GPU or CPU\n",
    "ctx = mx.gpu()\n",
    "#ctx = mx.cpu()\n",
    "\n",
    "# Number of classes\n",
    "num_outputs = 5\n",
    "\n",
    "# Get the pre-trained network\n",
    "pre_trained_net = vision.vgg16(pretrained=True, ctx=ctx)\n",
    "\n",
    "# Get the non-trained network\n",
    "net = vision.vgg16(classes=num_outputs, ctx=ctx)\n",
    "\n",
    "# Initialize weights\n",
    "net.collect_params().initialize(mx.init.Xavier(magnitude=2.24), ctx=ctx)\n",
    "\n",
    "# Copy weights from the trained network\n",
    "net.features = pre_trained_net.features"
   ]
  },
  {
   "cell_type": "code",
   "execution_count": null,
   "metadata": {},
   "outputs": [],
   "source": []
  }
 ],
 "metadata": {
  "kernelspec": {
   "display_name": "conda_mxnet_p36",
   "language": "python",
   "name": "conda_mxnet_p36"
  },
  "language_info": {
   "codemirror_mode": {
    "name": "ipython",
    "version": 3
   },
   "file_extension": ".py",
   "mimetype": "text/x-python",
   "name": "python",
   "nbconvert_exporter": "python",
   "pygments_lexer": "ipython3",
   "version": "3.6.5"
  }
 },
 "nbformat": 4,
 "nbformat_minor": 4
}
