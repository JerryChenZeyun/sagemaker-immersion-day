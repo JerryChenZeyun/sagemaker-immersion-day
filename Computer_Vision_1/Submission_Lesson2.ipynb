{
 "cells": [
  {
   "cell_type": "code",
   "execution_count": 1,
   "metadata": {
    "scrolled": true
   },
   "outputs": [],
   "source": [
    "# For easier dev of local modules:\n",
    "%load_ext autoreload\n",
    "%autoreload 2\n",
    "%matplotlib widget"
   ]
  },
  {
   "cell_type": "code",
   "execution_count": 2,
   "metadata": {},
   "outputs": [
    {
     "name": "stdout",
     "output_type": "stream",
     "text": [
      "/home/ec2-user/SageMaker\n"
     ]
    }
   ],
   "source": [
    "\n",
    "import os, sys\n",
    "\n",
    "# Initialize my ml_toolkit which is cloned to this instance\n",
    "path = os.path.abspath(os.path.join(os.path.dirname('../../..')))\n",
    "print(path)\n",
    "sys.path.append(path)\n",
    "from ml_toolkit.visualization import Visualization\n",
    "visualization = Visualization()"
   ]
  },
  {
   "cell_type": "markdown",
   "metadata": {},
   "source": [
    "## Computer Vision I Final Project\n",
    "\n",
    "In this walkthrough, we will look at reading training, test data and creating a submission file for your final project. Once you train your model and get your predictions, submit your model's .csv output to the class [Leaderboard](https://leaderboard.corp.amazon.com/tasks/312)"
   ]
  },
  {
   "cell_type": "markdown",
   "metadata": {},
   "source": [
    "## Set up SageMaker\n",
    "\n",
    "Are your models taking too long to train? Use a P2 instance as described in the README."
   ]
  },
  {
   "cell_type": "markdown",
   "metadata": {},
   "source": [
    "## Data Access\n",
    "\n",
    "In this part, we will see how to read training and test data"
   ]
  },
  {
   "cell_type": "markdown",
   "metadata": {},
   "source": [
    "## 1. Training data"
   ]
  },
  {
   "cell_type": "code",
   "execution_count": 3,
   "metadata": {},
   "outputs": [
    {
     "data": {
      "text/html": [
       "<div>\n",
       "<style scoped>\n",
       "    .dataframe tbody tr th:only-of-type {\n",
       "        vertical-align: middle;\n",
       "    }\n",
       "\n",
       "    .dataframe tbody tr th {\n",
       "        vertical-align: top;\n",
       "    }\n",
       "\n",
       "    .dataframe thead th {\n",
       "        text-align: right;\n",
       "    }\n",
       "</style>\n",
       "<table border=\"1\" class=\"dataframe\">\n",
       "  <thead>\n",
       "    <tr style=\"text-align: right;\">\n",
       "      <th></th>\n",
       "      <th>ID</th>\n",
       "      <th>data</th>\n",
       "      <th>label</th>\n",
       "    </tr>\n",
       "  </thead>\n",
       "  <tbody>\n",
       "    <tr>\n",
       "      <th>0</th>\n",
       "      <td>1588</td>\n",
       "      <td>[[[255, 255, 255], [255, 255, 255], [255, 255,...</td>\n",
       "      <td>4</td>\n",
       "    </tr>\n",
       "    <tr>\n",
       "      <th>1</th>\n",
       "      <td>2011</td>\n",
       "      <td>[[[255, 255, 255], [255, 255, 255], [255, 255,...</td>\n",
       "      <td>1</td>\n",
       "    </tr>\n",
       "    <tr>\n",
       "      <th>2</th>\n",
       "      <td>1321</td>\n",
       "      <td>[[[255, 255, 255], [255, 255, 255], [255, 255,...</td>\n",
       "      <td>4</td>\n",
       "    </tr>\n",
       "    <tr>\n",
       "      <th>3</th>\n",
       "      <td>669</td>\n",
       "      <td>[[[255, 255, 255], [255, 255, 255], [255, 255,...</td>\n",
       "      <td>3</td>\n",
       "    </tr>\n",
       "    <tr>\n",
       "      <th>4</th>\n",
       "      <td>1674</td>\n",
       "      <td>[[[255, 255, 255], [255, 255, 255], [255, 255,...</td>\n",
       "      <td>1</td>\n",
       "    </tr>\n",
       "  </tbody>\n",
       "</table>\n",
       "</div>"
      ],
      "text/plain": [
       "     ID                                               data  label\n",
       "0  1588  [[[255, 255, 255], [255, 255, 255], [255, 255,...      4\n",
       "1  2011  [[[255, 255, 255], [255, 255, 255], [255, 255,...      1\n",
       "2  1321  [[[255, 255, 255], [255, 255, 255], [255, 255,...      4\n",
       "3   669  [[[255, 255, 255], [255, 255, 255], [255, 255,...      3\n",
       "4  1674  [[[255, 255, 255], [255, 255, 255], [255, 255,...      1"
      ]
     },
     "execution_count": 3,
     "metadata": {},
     "output_type": "execute_result"
    }
   ],
   "source": [
    "#Let's read in our training data. ASINs correspond to those in Leaderboard's ID.\n",
    "import pandas as pd\n",
    "\n",
    "df = pd.read_pickle(\"/tmp/training_data.pkl\")\n",
    "df.head()"
   ]
  },
  {
   "cell_type": "code",
   "execution_count": 4,
   "metadata": {},
   "outputs": [
    {
     "data": {
      "application/vnd.jupyter.widget-view+json": {
       "model_id": "382aef8fe2c645c399e441db35e70505",
       "version_major": 2,
       "version_minor": 0
      },
      "text/plain": [
       "Canvas(toolbar=Toolbar(toolitems=[('Home', 'Reset original view', 'home', 'home'), ('Back', 'Back to previous …"
      ]
     },
     "metadata": {},
     "output_type": "display_data"
    },
    {
     "data": {
      "text/plain": [
       "<matplotlib.image.AxesImage at 0x7f8fdc3870f0>"
      ]
     },
     "execution_count": 4,
     "metadata": {},
     "output_type": "execute_result"
    }
   ],
   "source": [
    "#Let's see what kind of data we're working with\n",
    "import matplotlib.pyplot as plt\n",
    "\n",
    "plt.imshow(df['data'][90])"
   ]
  },
  {
   "cell_type": "markdown",
   "metadata": {},
   "source": [
    "Our labels correspondend to the following:\n",
    "\n",
    "* Class 0: *Inconclusive*\n",
    "* Class 1: *Two wheels*\n",
    "* Class 2: *Four wheels*\n",
    "* Class 3: *Not luggage*\n",
    "* Class 4: *Zero wheels*"
   ]
  },
  {
   "cell_type": "code",
   "execution_count": 5,
   "metadata": {},
   "outputs": [
    {
     "data": {
      "text/plain": [
       "ID                                                    1221\n",
       "data     [[[255, 255, 255], [255, 255, 255], [255, 255,...\n",
       "label                                                    1\n",
       "Name: 90, dtype: object"
      ]
     },
     "execution_count": 5,
     "metadata": {},
     "output_type": "execute_result"
    }
   ],
   "source": [
    "# Let's take a look at this data in more detail and then start working. Remember 'label' is our target variable/column\n",
    "df.loc[90]"
   ]
  },
  {
   "cell_type": "markdown",
   "metadata": {},
   "source": [
    "## Split the data into Training 90% and Validation 10%"
   ]
  },
  {
   "cell_type": "code",
   "execution_count": 6,
   "metadata": {},
   "outputs": [
    {
     "name": "stdout",
     "output_type": "stream",
     "text": [
      "no. of train images: 1616\n",
      "no. of validation images: 180\n"
     ]
    }
   ],
   "source": [
    "import numpy as np\n",
    "from skimage.transform import resize\n",
    "from mxnet import gluon\n",
    "\n",
    "train_percentage = 0.9\n",
    "\n",
    "# shuffling the dataframe\n",
    "#df = df.sample(frac=1)\n",
    "\n",
    "\n",
    "# # Splitting into training and validation subset\n",
    "train_indices = np.arange(0, int(train_percentage*len(df)))\n",
    "val_indices = np.arange(int(train_percentage*len(df)), len(df))\n",
    "\n",
    "train_df = df.iloc[train_indices]\n",
    "val_df = df.iloc[val_indices]\n",
    "\n",
    "# del df\n",
    "\n",
    "def getImages(images):\n",
    "    # Create the image holder array\n",
    "    image_arr = np.zeros((images.shape[0], 3, 224, 224), dtype=\"float32\")\n",
    "    extra_images = []\n",
    "    \n",
    "    # Iterate through the image data\n",
    "    for i, im in enumerate(images):\n",
    "        # Get image from the data column of the current row\n",
    "        \n",
    "        # We need a fixed size input, our images have different sizes, let's pick 224x224.\n",
    "        # Resize image below\n",
    "        im = resize(im, output_shape=(224, 224))\n",
    "        \n",
    "        # Gluon/mxnet expects images in this format (channel, row, column)\n",
    "        # This is the opposite of (row, column, channel), let's fix it\n",
    "        im = np.moveaxis(im, -1, 0)\n",
    "        \n",
    "        # Assign the value in the image array\n",
    "        image_arr[i] = im\n",
    "    return (image_arr)\n",
    "\n",
    "train_images, train_labels = getImages(train_df['data'].values), train_df['label'].values\n",
    "validation_images, validation_labels = getImages(val_df['data'].values), val_df['label'].values\n",
    "\n",
    "print('no. of train images: {}'.format(len(train_images)))\n",
    "print('no. of validation images: {}'.format(len(validation_images)))\n",
    "\n",
    "# Using Gluon Data loaders to load the data in batches\n",
    "train_dataset = gluon.data.ArrayDataset(train_images, train_labels)\n",
    "validation_dataset = gluon.data.ArrayDataset(validation_images, validation_labels)\n",
    "\n",
    "\n",
    "\n"
   ]
  },
  {
   "cell_type": "code",
   "execution_count": 7,
   "metadata": {},
   "outputs": [
    {
     "data": {
      "text/plain": [
       "array([[[1., 1., 1., ..., 1., 1., 1.],\n",
       "        [1., 1., 1., ..., 1., 1., 1.],\n",
       "        [1., 1., 1., ..., 1., 1., 1.],\n",
       "        ...,\n",
       "        [1., 1., 1., ..., 1., 1., 1.],\n",
       "        [1., 1., 1., ..., 1., 1., 1.],\n",
       "        [1., 1., 1., ..., 1., 1., 1.]],\n",
       "\n",
       "       [[1., 1., 1., ..., 1., 1., 1.],\n",
       "        [1., 1., 1., ..., 1., 1., 1.],\n",
       "        [1., 1., 1., ..., 1., 1., 1.],\n",
       "        ...,\n",
       "        [1., 1., 1., ..., 1., 1., 1.],\n",
       "        [1., 1., 1., ..., 1., 1., 1.],\n",
       "        [1., 1., 1., ..., 1., 1., 1.]],\n",
       "\n",
       "       [[1., 1., 1., ..., 1., 1., 1.],\n",
       "        [1., 1., 1., ..., 1., 1., 1.],\n",
       "        [1., 1., 1., ..., 1., 1., 1.],\n",
       "        ...,\n",
       "        [1., 1., 1., ..., 1., 1., 1.],\n",
       "        [1., 1., 1., ..., 1., 1., 1.],\n",
       "        [1., 1., 1., ..., 1., 1., 1.]]], dtype=float32)"
      ]
     },
     "execution_count": 7,
     "metadata": {},
     "output_type": "execute_result"
    }
   ],
   "source": [
    "train_images[90]"
   ]
  },
  {
   "cell_type": "raw",
   "metadata": {},
   "source": [
    "train_imagesn_images = np.array(train_images, copy=True)\n",
    "org_train_labels = np.array(train_labels, copy=True)"
   ]
  },
  {
   "cell_type": "raw",
   "metadata": {},
   "source": [
    "train_images = np.array(org_train_images, copy=True)\n",
    "train_labels = np.array(org_train_labels, copy=True)\n",
    "print('no. of train images: {}'.format(len(train_images)))\n",
    "print('no. of train labels: {}'.format(len(train_labels)))\n",
    "print('no. of validation images: {}'.format(len(validation_images)))"
   ]
  },
  {
   "cell_type": "raw",
   "metadata": {},
   "source": [
    "\n",
    "flipped_images = []\n",
    "flipped_labels = []\n",
    "for idx, label in enumerate(train_labels):\n",
    "    if label in [0, 3]:\n",
    "        flipped_images.append(np.fliplr(train_images[idx]))\n",
    "        flipped_labels.append(label)\n",
    "#         flipped_images.append(np.flipud(train_images[idx]))\n",
    "#         flipped_labels.append(label)\n",
    "#         flipped_images.append(np.flip(train_images[idx], (0, 1)))\n",
    "#         flipped_labels.append(label)\n",
    "print(len(flipped_images))\n",
    "print(len(flipped_labels))\n",
    "train_images = np.concatenate((train_images, flipped_images))\n",
    "train_labels = np.concatenate((train_labels, flipped_labels))\n",
    "print('no. of train images: {}'.format(len(train_images)))\n",
    "print('no. of train labels: {}'.format(len(train_labels)))\n",
    "print('no. of validation images: {}'.format(len(validation_images)))\n",
    "\n"
   ]
  },
  {
   "cell_type": "code",
   "execution_count": 8,
   "metadata": {},
   "outputs": [
    {
     "name": "stdout",
     "output_type": "stream",
     "text": [
      "[ 78 657 500  36 345]\n",
      "[0.23793317 0.14836015 0.17264852 0.24443069 0.19662747]\n"
     ]
    }
   ],
   "source": [
    "# Weighting\n",
    "no_samples_per_label = np.zeros(5, dtype=\"int\")\n",
    "for label in train_labels:\n",
    "    no_samples_per_label[label] = no_samples_per_label[label]+1\n",
    "print(no_samples_per_label)\n",
    "weights = np.zeros(5, dtype=\"float32\")\n",
    "for i, n in enumerate(no_samples_per_label):\n",
    "    weights[i] = (1-(n/len(train_images)))/4\n",
    "print(weights)"
   ]
  },
  {
   "cell_type": "code",
   "execution_count": 9,
   "metadata": {},
   "outputs": [],
   "source": [
    "# Using Gluon Data loaders to load the data in batches\n",
    "train_dataset = gluon.data.ArrayDataset(train_images, train_labels)\n",
    "validation_dataset = gluon.data.ArrayDataset(validation_images, validation_labels)"
   ]
  },
  {
   "cell_type": "markdown",
   "metadata": {},
   "source": [
    "## Plot the class distribution"
   ]
  },
  {
   "cell_type": "code",
   "execution_count": 10,
   "metadata": {},
   "outputs": [
    {
     "ename": "AttributeError",
     "evalue": "'Visualization' object has no attribute 'draw_class_distribution'",
     "output_type": "error",
     "traceback": [
      "\u001b[0;31m---------------------------------------------------------------------------\u001b[0m",
      "\u001b[0;31mAttributeError\u001b[0m                            Traceback (most recent call last)",
      "\u001b[0;32m<ipython-input-10-98f2f44170ea>\u001b[0m in \u001b[0;36m<module>\u001b[0;34m()\u001b[0m\n\u001b[0;32m----> 1\u001b[0;31m \u001b[0mvisualization\u001b[0m\u001b[0;34m.\u001b[0m\u001b[0mdraw_class_distribution\u001b[0m\u001b[0;34m(\u001b[0m\u001b[0mtrain_labels\u001b[0m\u001b[0;34m)\u001b[0m\u001b[0;34m\u001b[0m\u001b[0m\n\u001b[0m",
      "\u001b[0;31mAttributeError\u001b[0m: 'Visualization' object has no attribute 'draw_class_distribution'"
     ]
    }
   ],
   "source": [
    "visualization.draw_class_distribution(train_labels)"
   ]
  },
  {
   "cell_type": "markdown",
   "metadata": {},
   "source": [
    "## Build the Convolutional Neural Network\n",
    "\n",
    "   - We will use two Convolution-Pooling pairs\n",
    "   - Flatten after them\n",
    "   - A fully connected layer\n",
    "   - Dense output layer\n"
   ]
  },
  {
   "cell_type": "code",
   "execution_count": 11,
   "metadata": {},
   "outputs": [],
   "source": [
    "from mxnet.gluon.model_zoo import vision\n",
    "import mxnet as mx\n",
    "\n",
    "def build_network(num_outputs):\n",
    "    # Set this to GPU or CPU\n",
    "    ctx = mx.gpu()\n",
    "    #ctx = mx.cpu()\n",
    "\n",
    "    # Get the pre-trained network\n",
    "#     pre_trained_net = vision.resnet50_v2(pretrained=True, ctx=ctx)\n",
    "    pre_trained_net = vision.vgg16(pretrained=True, ctx=ctx)\n",
    "#     pre_trained_net = vision.alexnet(pretrained=True, ctx=ctx)\n",
    "\n",
    "    # Get the non-trained network\n",
    "#     net = vision.resnet50_v2(classes=num_outputs, ctx=ctx)\n",
    "    net = vision.vgg16(classes=num_outputs, ctx=ctx)\n",
    "#     net = vision.alexnet(classes=num_outputs, ctx=ctx)\n",
    "    \n",
    "    # Initialize weights\n",
    "    net.collect_params().initialize(mx.init.Xavier(magnitude=2.24), ctx=ctx)\n",
    "    \n",
    "    # Copy weights from the trained network\n",
    "    net.features = pre_trained_net.features\n",
    "\n",
    "    return net"
   ]
  },
  {
   "cell_type": "markdown",
   "metadata": {},
   "source": [
    "## Training and Validation"
   ]
  },
  {
   "cell_type": "code",
   "execution_count": 12,
   "metadata": {},
   "outputs": [],
   "source": [
    "import numpy as np\n",
    "from mxnet import gluon, autograd, ndarray\n",
    "import mxnet as mx\n",
    "import mxnet.ndarray as nd\n",
    "from mxnet.gluon.loss import SoftmaxCrossEntropyLoss\n",
    "from sklearn.metrics import accuracy_score\n",
    "\n",
    "# Set this to CPU or GPU depending on your training instance\n",
    "# ctx = mx.cpu()\n",
    "ctx = mx.gpu()\n",
    "\n",
    "epochs = 5\n",
    "batch_size = 32\n",
    "learning_rate = 0.01\n",
    "class_labels = ['Inconclusive', 'Two wheels', 'Four wheels', 'Not luggage', 'Zero wheels']\n",
    "\n",
    "# Create the network. We have 5 classes\n",
    "num_outputs = 5\n",
    "\n",
    "net = build_network(num_outputs)\n",
    "net = build_network(num_outputs)\n",
    "\n",
    "def train(weights):\n",
    "    # Weighing\n",
    "#     weights = nd.array([0.23,0.15,0.18,0.24,0.20])\n",
    "#     weights = nd.array(weights)\n",
    "\n",
    "    \n",
    "\n",
    "    # Define loss and trainer.\n",
    "    softmax_cross_etropy_loss = gluon.loss.SoftmaxCrossEntropyLoss()\n",
    "    trainer = gluon.Trainer(net.collect_params(), 'sgd', {'learning_rate': learning_rate})\n",
    "    # ------------------------------------------------- #\n",
    "\n",
    "    train_loader = gluon.data.DataLoader(train_dataset, batch_size=batch_size)\n",
    "    validation_loader = gluon.data.DataLoader(validation_dataset, batch_size=batch_size)\n",
    "    \n",
    "    # Starting the outer loop, we will have 3 epochs (3 full pass through our dataset)\n",
    "    for epoch in range(epochs):\n",
    "\n",
    "        # Training loop: (with autograd and trainer steps, etc.)\n",
    "        # This loop does the training of the neural network (weights are updated)\n",
    "        cumulative_train_loss = 0\n",
    "        train_predictions = []\n",
    "        for i, (data, label) in enumerate(train_loader):\n",
    "            data = data.as_in_context(ctx)\n",
    "            label = label.as_in_context(ctx)\n",
    "            #w = weights.as_in_context(ctx)\n",
    "            with autograd.record():\n",
    "                output = net(data)\n",
    "                train_predictions = train_predictions + np.argmax(output.asnumpy(), axis=1).tolist()\n",
    "                #loss = softmax_cross_etropy_loss(output, label, w)\n",
    "                loss = softmax_cross_etropy_loss(output, label)\n",
    "                cumulative_train_loss = cumulative_train_loss + nd.sum(loss)\n",
    "            loss.backward()\n",
    "            trainer.step(data.shape[0])\n",
    "\n",
    "        # Calculating the Softmax Cross Entopy Loss for training\n",
    "        train_loss = cumulative_train_loss/len(train_images)\n",
    "\n",
    "        # Validation loop:\n",
    "        # This loop tests the trained network on validation dataset\n",
    "        # No weight updates here\n",
    "        cumulative_valid_loss = 0\n",
    "        val_predictions = []\n",
    "        for i, (data, label) in enumerate(validation_loader):\n",
    "            data = data.as_in_context(ctx)\n",
    "            label = label.as_in_context(ctx)\n",
    "#             w = weights.as_in_context(ctx)\n",
    "            output = net(data)\n",
    "            val_predictions = val_predictions + np.argmax(output.asnumpy(), axis=1).tolist()\n",
    "#             val_loss = softmax_cross_etropy_loss(output, label, w)\n",
    "            val_loss = softmax_cross_etropy_loss(output, label)\n",
    "            cumulative_valid_loss = cumulative_valid_loss + nd.sum(val_loss)\n",
    "        valid_loss = cumulative_valid_loss/len(validation_images)\n",
    "\n",
    "        # Calculate training and validation accuracies\n",
    "        # I used a accuracy_score() function from the sklearn library here. \n",
    "        # accuracy = (TP+TN) / (TP+FP+TN+FN)\n",
    "        train_accuracy = accuracy_score(train_labels.tolist(), train_predictions)\n",
    "        validation_accuracy = accuracy_score(validation_labels.tolist(), val_predictions)\n",
    "\n",
    "        # Print the summary and plot the confusion matrix after each epoch\n",
    "    #     print(\"Epoch {}, training loss: {:.2f}, validation loss: {:.2f}, training accuracy: {:.2f}, validation accuracy: {:.2f}\".format(epoch, train_loss.asnumpy()[0], valid_loss.asnumpy()[0], train_accuracy, validation_accuracy))\n",
    "    #     if epoch % 5 == 0 and epoch != 0:\n",
    "    #         plot_confusion_matrix(validation_labels.tolist(), val_predictions)\n",
    "        text_string = \"Epoch {}, training loss: {:.2f}, validation loss: {:.2f}, training accuracy: {:.2f}, validation accuracy: {:.2f}\".format(epoch, train_loss.asnumpy()[0], valid_loss.asnumpy()[0], train_accuracy, validation_accuracy)\n",
    "        visualization.plot_confusion_matrix(validation_labels.tolist(), val_predictions, text_string, class_labels)"
   ]
  },
  {
   "cell_type": "code",
   "execution_count": 13,
   "metadata": {},
   "outputs": [
    {
     "ename": "MXNetError",
     "evalue": "[08:11:17] src/operator/././../common/../operator/mxnet_op.h:1113: Check failed: err == cudaSuccess (2 vs. 0) : Name: mxnet_generic_kernel ErrStr:out of memory\nStack trace:\n  [bt] (0) /home/ec2-user/anaconda3/envs/mxnet_p36/lib/python3.6/site-packages/mxnet/libmxnet.so(+0x6dfb0b) [0x7f9012d8fb0b]\n  [bt] (1) /home/ec2-user/anaconda3/envs/mxnet_p36/lib/python3.6/site-packages/mxnet/libmxnet.so(+0x6e39c3c) [0x7f90194e9c3c]\n  [bt] (2) /home/ec2-user/anaconda3/envs/mxnet_p36/lib/python3.6/site-packages/mxnet/libmxnet.so(+0x6e4a40c) [0x7f90194fa40c]\n  [bt] (3) /home/ec2-user/anaconda3/envs/mxnet_p36/lib/python3.6/site-packages/mxnet/libmxnet.so(mxnet::imperative::PushFCompute(std::function<void (nnvm::NodeAttrs const&, mxnet::OpContext const&, std::vector<mxnet::TBlob, std::allocator<mxnet::TBlob> > const&, std::vector<mxnet::OpReqType, std::allocator<mxnet::OpReqType> > const&, std::vector<mxnet::TBlob, std::allocator<mxnet::TBlob> > const&)> const&, nnvm::Op const*, nnvm::NodeAttrs const&, mxnet::Context const&, std::vector<mxnet::engine::Var*, std::allocator<mxnet::engine::Var*> > const&, std::vector<mxnet::engine::Var*, std::allocator<mxnet::engine::Var*> > const&, std::vector<mxnet::Resource, std::allocator<mxnet::Resource> > const&, std::vector<mxnet::NDArray*, std::allocator<mxnet::NDArray*> > const&, std::vector<mxnet::NDArray*, std::allocator<mxnet::NDArray*> > const&, std::vector<unsigned int, std::allocator<unsigned int> > const&, std::vector<mxnet::OpReqType, std::allocator<mxnet::OpReqType> > const&)::{lambda(mxnet::RunContext)#1}::operator()(mxnet::RunContext) const+0x375) [0x7f9016043cb5]\n  [bt] (4) /home/ec2-user/anaconda3/envs/mxnet_p36/lib/python3.6/site-packages/mxnet/libmxnet.so(+0x38a3e54) [0x7f9015f53e54]\n  [bt] (5) /home/ec2-user/anaconda3/envs/mxnet_p36/lib/python3.6/site-packages/mxnet/libmxnet.so(+0x38b1e61) [0x7f9015f61e61]\n  [bt] (6) /home/ec2-user/anaconda3/envs/mxnet_p36/lib/python3.6/site-packages/mxnet/libmxnet.so(+0x38b5480) [0x7f9015f65480]\n  [bt] (7) /home/ec2-user/anaconda3/envs/mxnet_p36/lib/python3.6/site-packages/mxnet/libmxnet.so(+0x38b5716) [0x7f9015f65716]\n  [bt] (8) /home/ec2-user/anaconda3/envs/mxnet_p36/lib/python3.6/site-packages/mxnet/libmxnet.so(+0x38b05b4) [0x7f9015f605b4]\n\n",
     "output_type": "error",
     "traceback": [
      "\u001b[0;31m---------------------------------------------------------------------------\u001b[0m",
      "\u001b[0;31mMXNetError\u001b[0m                                Traceback (most recent call last)",
      "\u001b[0;32m<ipython-input-13-ae8735d13a80>\u001b[0m in \u001b[0;36m<module>\u001b[0;34m()\u001b[0m\n\u001b[0;32m----> 1\u001b[0;31m \u001b[0mtrain\u001b[0m\u001b[0;34m(\u001b[0m\u001b[0mweights\u001b[0m\u001b[0;34m)\u001b[0m\u001b[0;34m\u001b[0m\u001b[0m\n\u001b[0m",
      "\u001b[0;32m<ipython-input-12-1c2687b46556>\u001b[0m in \u001b[0;36mtrain\u001b[0;34m(weights)\u001b[0m\n\u001b[1;32m     49\u001b[0m             \u001b[0;32mwith\u001b[0m \u001b[0mautograd\u001b[0m\u001b[0;34m.\u001b[0m\u001b[0mrecord\u001b[0m\u001b[0;34m(\u001b[0m\u001b[0;34m)\u001b[0m\u001b[0;34m:\u001b[0m\u001b[0;34m\u001b[0m\u001b[0m\n\u001b[1;32m     50\u001b[0m                 \u001b[0moutput\u001b[0m \u001b[0;34m=\u001b[0m \u001b[0mnet\u001b[0m\u001b[0;34m(\u001b[0m\u001b[0mdata\u001b[0m\u001b[0;34m)\u001b[0m\u001b[0;34m\u001b[0m\u001b[0m\n\u001b[0;32m---> 51\u001b[0;31m                 \u001b[0mtrain_predictions\u001b[0m \u001b[0;34m=\u001b[0m \u001b[0mtrain_predictions\u001b[0m \u001b[0;34m+\u001b[0m \u001b[0mnp\u001b[0m\u001b[0;34m.\u001b[0m\u001b[0margmax\u001b[0m\u001b[0;34m(\u001b[0m\u001b[0moutput\u001b[0m\u001b[0;34m.\u001b[0m\u001b[0masnumpy\u001b[0m\u001b[0;34m(\u001b[0m\u001b[0;34m)\u001b[0m\u001b[0;34m,\u001b[0m \u001b[0maxis\u001b[0m\u001b[0;34m=\u001b[0m\u001b[0;36m1\u001b[0m\u001b[0;34m)\u001b[0m\u001b[0;34m.\u001b[0m\u001b[0mtolist\u001b[0m\u001b[0;34m(\u001b[0m\u001b[0;34m)\u001b[0m\u001b[0;34m\u001b[0m\u001b[0m\n\u001b[0m\u001b[1;32m     52\u001b[0m                 \u001b[0;31m#loss = softmax_cross_etropy_loss(output, label, w)\u001b[0m\u001b[0;34m\u001b[0m\u001b[0;34m\u001b[0m\u001b[0m\n\u001b[1;32m     53\u001b[0m                 \u001b[0mloss\u001b[0m \u001b[0;34m=\u001b[0m \u001b[0msoftmax_cross_etropy_loss\u001b[0m\u001b[0;34m(\u001b[0m\u001b[0moutput\u001b[0m\u001b[0;34m,\u001b[0m \u001b[0mlabel\u001b[0m\u001b[0;34m)\u001b[0m\u001b[0;34m\u001b[0m\u001b[0m\n",
      "\u001b[0;32m~/anaconda3/envs/mxnet_p36/lib/python3.6/site-packages/mxnet/ndarray/ndarray.py\u001b[0m in \u001b[0;36masnumpy\u001b[0;34m(self)\u001b[0m\n\u001b[1;32m   2533\u001b[0m             \u001b[0mself\u001b[0m\u001b[0;34m.\u001b[0m\u001b[0mhandle\u001b[0m\u001b[0;34m,\u001b[0m\u001b[0;34m\u001b[0m\u001b[0m\n\u001b[1;32m   2534\u001b[0m             \u001b[0mdata\u001b[0m\u001b[0;34m.\u001b[0m\u001b[0mctypes\u001b[0m\u001b[0;34m.\u001b[0m\u001b[0mdata_as\u001b[0m\u001b[0;34m(\u001b[0m\u001b[0mctypes\u001b[0m\u001b[0;34m.\u001b[0m\u001b[0mc_void_p\u001b[0m\u001b[0;34m)\u001b[0m\u001b[0;34m,\u001b[0m\u001b[0;34m\u001b[0m\u001b[0m\n\u001b[0;32m-> 2535\u001b[0;31m             ctypes.c_size_t(data.size)))\n\u001b[0m\u001b[1;32m   2536\u001b[0m         \u001b[0;32mreturn\u001b[0m \u001b[0mdata\u001b[0m\u001b[0;34m\u001b[0m\u001b[0m\n\u001b[1;32m   2537\u001b[0m \u001b[0;34m\u001b[0m\u001b[0m\n",
      "\u001b[0;32m~/anaconda3/envs/mxnet_p36/lib/python3.6/site-packages/mxnet/base.py\u001b[0m in \u001b[0;36mcheck_call\u001b[0;34m(ret)\u001b[0m\n\u001b[1;32m    253\u001b[0m     \"\"\"\n\u001b[1;32m    254\u001b[0m     \u001b[0;32mif\u001b[0m \u001b[0mret\u001b[0m \u001b[0;34m!=\u001b[0m \u001b[0;36m0\u001b[0m\u001b[0;34m:\u001b[0m\u001b[0;34m\u001b[0m\u001b[0m\n\u001b[0;32m--> 255\u001b[0;31m         \u001b[0;32mraise\u001b[0m \u001b[0mMXNetError\u001b[0m\u001b[0;34m(\u001b[0m\u001b[0mpy_str\u001b[0m\u001b[0;34m(\u001b[0m\u001b[0m_LIB\u001b[0m\u001b[0;34m.\u001b[0m\u001b[0mMXGetLastError\u001b[0m\u001b[0;34m(\u001b[0m\u001b[0;34m)\u001b[0m\u001b[0;34m)\u001b[0m\u001b[0;34m)\u001b[0m\u001b[0;34m\u001b[0m\u001b[0m\n\u001b[0m\u001b[1;32m    256\u001b[0m \u001b[0;34m\u001b[0m\u001b[0m\n\u001b[1;32m    257\u001b[0m \u001b[0;34m\u001b[0m\u001b[0m\n",
      "\u001b[0;31mMXNetError\u001b[0m: [08:11:17] src/operator/././../common/../operator/mxnet_op.h:1113: Check failed: err == cudaSuccess (2 vs. 0) : Name: mxnet_generic_kernel ErrStr:out of memory\nStack trace:\n  [bt] (0) /home/ec2-user/anaconda3/envs/mxnet_p36/lib/python3.6/site-packages/mxnet/libmxnet.so(+0x6dfb0b) [0x7f9012d8fb0b]\n  [bt] (1) /home/ec2-user/anaconda3/envs/mxnet_p36/lib/python3.6/site-packages/mxnet/libmxnet.so(+0x6e39c3c) [0x7f90194e9c3c]\n  [bt] (2) /home/ec2-user/anaconda3/envs/mxnet_p36/lib/python3.6/site-packages/mxnet/libmxnet.so(+0x6e4a40c) [0x7f90194fa40c]\n  [bt] (3) /home/ec2-user/anaconda3/envs/mxnet_p36/lib/python3.6/site-packages/mxnet/libmxnet.so(mxnet::imperative::PushFCompute(std::function<void (nnvm::NodeAttrs const&, mxnet::OpContext const&, std::vector<mxnet::TBlob, std::allocator<mxnet::TBlob> > const&, std::vector<mxnet::OpReqType, std::allocator<mxnet::OpReqType> > const&, std::vector<mxnet::TBlob, std::allocator<mxnet::TBlob> > const&)> const&, nnvm::Op const*, nnvm::NodeAttrs const&, mxnet::Context const&, std::vector<mxnet::engine::Var*, std::allocator<mxnet::engine::Var*> > const&, std::vector<mxnet::engine::Var*, std::allocator<mxnet::engine::Var*> > const&, std::vector<mxnet::Resource, std::allocator<mxnet::Resource> > const&, std::vector<mxnet::NDArray*, std::allocator<mxnet::NDArray*> > const&, std::vector<mxnet::NDArray*, std::allocator<mxnet::NDArray*> > const&, std::vector<unsigned int, std::allocator<unsigned int> > const&, std::vector<mxnet::OpReqType, std::allocator<mxnet::OpReqType> > const&)::{lambda(mxnet::RunContext)#1}::operator()(mxnet::RunContext) const+0x375) [0x7f9016043cb5]\n  [bt] (4) /home/ec2-user/anaconda3/envs/mxnet_p36/lib/python3.6/site-packages/mxnet/libmxnet.so(+0x38a3e54) [0x7f9015f53e54]\n  [bt] (5) /home/ec2-user/anaconda3/envs/mxnet_p36/lib/python3.6/site-packages/mxnet/libmxnet.so(+0x38b1e61) [0x7f9015f61e61]\n  [bt] (6) /home/ec2-user/anaconda3/envs/mxnet_p36/lib/python3.6/site-packages/mxnet/libmxnet.so(+0x38b5480) [0x7f9015f65480]\n  [bt] (7) /home/ec2-user/anaconda3/envs/mxnet_p36/lib/python3.6/site-packages/mxnet/libmxnet.so(+0x38b5716) [0x7f9015f65716]\n  [bt] (8) /home/ec2-user/anaconda3/envs/mxnet_p36/lib/python3.6/site-packages/mxnet/libmxnet.so(+0x38b05b4) [0x7f9015f605b4]\n\n"
     ]
    }
   ],
   "source": [
    "train(weights)"
   ]
  },
  {
   "cell_type": "markdown",
   "metadata": {},
   "source": [
    "## 2. Test Data"
   ]
  },
  {
   "cell_type": "code",
   "execution_count": 21,
   "metadata": {},
   "outputs": [
    {
     "data": {
      "text/plain": [
       "<matplotlib.image.AxesImage at 0x7faec3ca78d0>"
      ]
     },
     "execution_count": 21,
     "metadata": {},
     "output_type": "execute_result"
    },
    {
     "data": {
      "image/png": "[encoded data removed]",
      "text/plain": [
       "<Figure size 432x288 with 1 Axes>"
      ]
     },
     "metadata": {},
     "output_type": "display_data"
    }
   ],
   "source": [
    "# If you're unsure of how to submit to Leaderboard, no problemo.You'll use the training file loaded above to make your ML model and then predict on the files below:\n",
    "\n",
    "test_df = pd.read_pickle(\"/tmp/test_data.pkl\")\n",
    "plt.imshow(test_df['data'][90])"
   ]
  },
  {
   "cell_type": "code",
   "execution_count": 22,
   "metadata": {},
   "outputs": [
    {
     "data": {
      "text/html": [
       "<div>\n",
       "<style scoped>\n",
       "    .dataframe tbody tr th:only-of-type {\n",
       "        vertical-align: middle;\n",
       "    }\n",
       "\n",
       "    .dataframe tbody tr th {\n",
       "        vertical-align: top;\n",
       "    }\n",
       "\n",
       "    .dataframe thead th {\n",
       "        text-align: right;\n",
       "    }\n",
       "</style>\n",
       "<table border=\"1\" class=\"dataframe\">\n",
       "  <thead>\n",
       "    <tr style=\"text-align: right;\">\n",
       "      <th></th>\n",
       "      <th>ID</th>\n",
       "      <th>data</th>\n",
       "    </tr>\n",
       "  </thead>\n",
       "  <tbody>\n",
       "    <tr>\n",
       "      <th>0</th>\n",
       "      <td>1453</td>\n",
       "      <td>[[[255, 255, 255], [255, 255, 255], [255, 255,...</td>\n",
       "    </tr>\n",
       "    <tr>\n",
       "      <th>1</th>\n",
       "      <td>655</td>\n",
       "      <td>[[[255, 255, 255], [255, 255, 255], [255, 255,...</td>\n",
       "    </tr>\n",
       "    <tr>\n",
       "      <th>2</th>\n",
       "      <td>1178</td>\n",
       "      <td>[[[255, 255, 255], [255, 255, 255], [255, 255,...</td>\n",
       "    </tr>\n",
       "    <tr>\n",
       "      <th>3</th>\n",
       "      <td>548</td>\n",
       "      <td>[[[255, 255, 255], [255, 255, 255], [255, 255,...</td>\n",
       "    </tr>\n",
       "    <tr>\n",
       "      <th>4</th>\n",
       "      <td>1547</td>\n",
       "      <td>[[[255, 255, 255], [255, 255, 255], [255, 255,...</td>\n",
       "    </tr>\n",
       "  </tbody>\n",
       "</table>\n",
       "</div>"
      ],
      "text/plain": [
       "     ID                                               data\n",
       "0  1453  [[[255, 255, 255], [255, 255, 255], [255, 255,...\n",
       "1   655  [[[255, 255, 255], [255, 255, 255], [255, 255,...\n",
       "2  1178  [[[255, 255, 255], [255, 255, 255], [255, 255,...\n",
       "3   548  [[[255, 255, 255], [255, 255, 255], [255, 255,...\n",
       "4  1547  [[[255, 255, 255], [255, 255, 255], [255, 255,..."
      ]
     },
     "execution_count": 22,
     "metadata": {},
     "output_type": "execute_result"
    }
   ],
   "source": [
    "test_df.head()"
   ]
  },
  {
   "cell_type": "markdown",
   "metadata": {},
   "source": [
    "## Sample zero submission file"
   ]
  },
  {
   "cell_type": "code",
   "execution_count": 23,
   "metadata": {},
   "outputs": [
    {
     "data": {
      "text/html": [
       "<div>\n",
       "<style scoped>\n",
       "    .dataframe tbody tr th:only-of-type {\n",
       "        vertical-align: middle;\n",
       "    }\n",
       "\n",
       "    .dataframe tbody tr th {\n",
       "        vertical-align: top;\n",
       "    }\n",
       "\n",
       "    .dataframe thead th {\n",
       "        text-align: right;\n",
       "    }\n",
       "</style>\n",
       "<table border=\"1\" class=\"dataframe\">\n",
       "  <thead>\n",
       "    <tr style=\"text-align: right;\">\n",
       "      <th></th>\n",
       "      <th>ID</th>\n",
       "      <th>label</th>\n",
       "    </tr>\n",
       "  </thead>\n",
       "  <tbody>\n",
       "    <tr>\n",
       "      <th>0</th>\n",
       "      <td>1453</td>\n",
       "      <td>0.0</td>\n",
       "    </tr>\n",
       "    <tr>\n",
       "      <th>1</th>\n",
       "      <td>655</td>\n",
       "      <td>0.0</td>\n",
       "    </tr>\n",
       "    <tr>\n",
       "      <th>2</th>\n",
       "      <td>1178</td>\n",
       "      <td>0.0</td>\n",
       "    </tr>\n",
       "    <tr>\n",
       "      <th>3</th>\n",
       "      <td>548</td>\n",
       "      <td>0.0</td>\n",
       "    </tr>\n",
       "    <tr>\n",
       "      <th>4</th>\n",
       "      <td>1547</td>\n",
       "      <td>0.0</td>\n",
       "    </tr>\n",
       "  </tbody>\n",
       "</table>\n",
       "</div>"
      ],
      "text/plain": [
       "     ID  label\n",
       "0  1453    0.0\n",
       "1   655    0.0\n",
       "2  1178    0.0\n",
       "3   548    0.0\n",
       "4  1547    0.0"
      ]
     },
     "execution_count": 23,
     "metadata": {},
     "output_type": "execute_result"
    }
   ],
   "source": [
    "# Below is an example submission of a very poor model\n",
    "\n",
    "test_submission = pd.read_csv('/tmp/sample_model_output.csv', header=0)\n",
    "test_submission.head(5)"
   ]
  },
  {
   "cell_type": "code",
   "execution_count": 24,
   "metadata": {},
   "outputs": [
    {
     "name": "stdout",
     "output_type": "stream",
     "text": [
      "[4, 4, 4, 1, 1, 1, 0, 1, 1, 1, 2, 4, 2, 1, 1, 1, 4, 1, 4, 1, 1, 4, 1, 1, 0, 2, 1, 1, 1, 1, 1, 3, 4, 2, 1, 0, 2, 3, 3, 1, 1, 4, 2, 4, 1, 1, 2, 1, 1, 4, 1, 4, 1, 2, 1, 1, 4, 2, 2, 1, 1, 4, 1, 4, 2, 0, 1, 0, 1, 2, 4, 1, 4, 1, 4, 4, 4, 1, 1, 2, 4, 2, 1, 4, 4, 4, 1, 4, 2, 4, 1, 1, 1, 2, 2, 2, 1, 1, 2, 4, 4, 1, 4, 2, 1, 2, 2, 1, 1, 1, 1, 1, 1, 2, 1, 2, 2, 2, 2, 1, 2, 2, 2, 2, 2, 1, 1, 1, 4, 1, 1, 1, 2, 4, 2, 1, 1, 1, 2, 4, 2, 1, 4, 1, 2, 1, 4, 2, 2, 2, 1, 3, 4, 2, 1, 4, 1, 4, 3, 4, 1, 1, 1, 2, 1, 4, 4, 1, 4, 2, 2, 1, 2, 2, 4, 4, 3, 2, 0, 4, 2, 4, 2, 2, 1, 2, 4, 1, 2, 4, 4, 2, 1, 1, 4, 4, 1, 1, 1, 1, 2, 1, 2, 2, 1, 2, 1, 3, 4, 1, 2, 2, 2, 2, 2, 0, 2, 2, 4, 4, 1, 0, 2, 2, 4, 4, 2, 4, 1, 1, 2, 2, 1, 1, 1, 2, 1, 4, 1, 1, 1, 1, 2, 2, 1, 1, 1, 2, 4, 2, 2, 1, 4, 2, 1, 1, 4, 1, 1, 2, 4, 1, 1, 1, 4, 2, 4, 2, 2, 1, 1, 4, 2, 2, 4, 1, 0, 1, 4, 4, 1, 2, 2, 1, 4, 1, 2, 1, 1, 1, 1, 1, 2, 1, 1, 3, 2, 1, 1, 1, 1, 2, 2, 1, 4, 1, 1, 1, 4, 0, 1, 4, 2, 1, 2, 2, 1, 1, 1, 1, 4, 1, 1, 1, 3, 1, 2, 0, 2, 2, 2, 4, 4, 0, 1, 1, 2, 1, 4, 1, 1, 2, 4, 2, 4, 4, 2, 1, 2, 4, 4, 1, 4, 2, 1, 2, 4, 2, 4, 0, 4, 3, 1, 2, 2, 1, 2, 1, 2, 4, 1, 4, 4, 1, 4, 1, 1, 2, 4, 2, 2, 2, 1, 2, 2, 1, 2, 2, 1, 1, 1, 1, 1, 1, 1, 4, 1, 2, 4, 1, 1, 4, 1, 1, 4, 2, 1, 1, 4, 1, 2, 1, 2, 1, 2, 2, 2, 1, 4, 4, 1, 2, 1, 2, 2, 4, 1, 4, 4, 4, 2, 4, 2, 4, 1, 4, 2, 1, 1, 4, 1, 2, 1, 4, 1, 2, 1, 3, 4]\n"
     ]
    }
   ],
   "source": [
    "\n",
    "test_images = getImages(test_df[\"data\"].values)\n",
    "test_loader = gluon.data.DataLoader(test_images, batch_size=batch_size)\n",
    "\n",
    "test_predictions = []\n",
    "for i, data in enumerate(test_loader):\n",
    "    data = data.as_in_context(ctx)\n",
    "    output = net(data)\n",
    "    test_predictions = test_predictions + np.argmax(output.asnumpy(), axis=1).tolist()\n",
    "print(test_predictions)"
   ]
  },
  {
   "cell_type": "markdown",
   "metadata": {},
   "source": [
    "## Your submission file"
   ]
  },
  {
   "cell_type": "code",
   "execution_count": 25,
   "metadata": {},
   "outputs": [],
   "source": [
    "import pandas as pd\n",
    "import os\n",
    "\n",
    "result_df = pd.DataFrame(columns=['ID', 'label'])\n",
    "result_df[\"ID\"] = test_df[\"ID\"]\n",
    "# Get your model's predictions when submitting (not the zero submission here)\n",
    "result_df[\"label\"] = test_predictions #test_submission['label'].values\n",
    "\n",
    "result_df.to_csv(\"results_cv_project.csv\", index=False)"
   ]
  },
  {
   "cell_type": "markdown",
   "metadata": {},
   "source": [
    "If you navigate to the day1/results folder in the Jupyter file browser, you can select the results_cv_project.csv and dowload it locally. Or just click this [link...](./results_cv_project.csv)"
   ]
  },
  {
   "cell_type": "markdown",
   "metadata": {},
   "source": [
    "## Getting our model output into Leaderboard\n",
    "\n",
    "We now have our model's output .csv and are ready to upload to Leaderboard\n",
    "1. Go to your class [Leaderboard instance](https://leaderboard.corp.amazon.com/tasks/312) and go to the 'Make a Submission' section\n",
    "2. Upload your local file and include your notebook version URL for tracking\n",
    "3. Your score on the public leaderboard should now appear. Marvel on how much room for improvement there is"
   ]
  },
  {
   "cell_type": "code",
   "execution_count": null,
   "metadata": {},
   "outputs": [],
   "source": []
  }
 ],
 "metadata": {
  "kernelspec": {
   "display_name": "conda_mxnet_p36",
   "language": "python",
   "name": "conda_mxnet_p36"
  },
  "language_info": {
   "codemirror_mode": {
    "name": "ipython",
    "version": 3
   },
   "file_extension": ".py",
   "mimetype": "text/x-python",
   "name": "python",
   "nbconvert_exporter": "python",
   "pygments_lexer": "ipython3",
   "version": "3.6.5"
  }
 },
 "nbformat": 4,
 "nbformat_minor": 4
}
