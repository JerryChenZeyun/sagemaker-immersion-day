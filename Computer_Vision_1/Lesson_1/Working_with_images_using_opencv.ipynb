{
 "cells": [
  {
   "cell_type": "markdown",
   "metadata": {},
   "source": [
    "## 1-Reading the data\n",
    "#### Let's read the uploaded image file. We will use this file throughout this notebook. We will use \"OpenCV\" library to read the image and make changes to it."
   ]
  },
  {
   "cell_type": "code",
   "execution_count": null,
   "metadata": {},
   "outputs": [],
   "source": [
    "import cv2\n",
    "\n",
    "image = cv2.imread('../../img/amazon_image.png')\n",
    "\n",
    "# Let's check the type of this image data\n",
    "print(\"Type:\", type(image))\n",
    "\n",
    "# See the shape of it\n",
    "print(\"Shape:\", image.shape)"
   ]
  },
  {
   "cell_type": "markdown",
   "metadata": {},
   "source": [
    "## 2-Showing the image\n",
    "#### We will use the \"matplotlib\" library. Let's plot the image below. There are a few points here. \n",
    "* OpenCV store image channels in this order: __Blue Green Red__ (ATTENTION HERE!)\n",
    "* Without changing the order it will look like below"
   ]
  },
  {
   "cell_type": "code",
   "execution_count": null,
   "metadata": {},
   "outputs": [],
   "source": [
    "import matplotlib.pyplot as plt\n",
    "\n",
    "plt.imshow(image)\n",
    "plt.show()"
   ]
  },
  {
   "cell_type": "markdown",
   "metadata": {},
   "source": [
    "* We can change the order to __Red Green Blue__ using the __cvtColor()__ function below. "
   ]
  },
  {
   "cell_type": "code",
   "execution_count": null,
   "metadata": {},
   "outputs": [],
   "source": [
    "image_color_order_changed = cv2.cvtColor(image, cv2.COLOR_BGR2RGB)\n",
    "plt.imshow(image_color_order_changed)\n",
    "plt.show()"
   ]
  },
  {
   "cell_type": "markdown",
   "metadata": {},
   "source": [
    "Let's get three images for the three channels: Blue, Green and Red and plot them"
   ]
  },
  {
   "cell_type": "code",
   "execution_count": null,
   "metadata": {},
   "outputs": [],
   "source": [
    "import numpy as np\n",
    "import matplotlib.pyplot as plt\n",
    "\n",
    "fig=plt.figure(figsize=(14, 28))\n",
    "color_channels = {1: 'Blue channel', 2: 'Green channel', 3:'Red channel'}\n",
    "for i in range(0, 3):\n",
    "    # Get the corresponding color channel, last index is color index (channel)\n",
    "    image_channel = image[:, :, i]\n",
    "    fig.add_subplot(1, 3, i+1)\n",
    "    # Plot the channel image and add title\n",
    "    plt.imshow(image_channel, cmap='gray')\n",
    "    plt.title(color_channels[i+1])\n",
    "plt.show()"
   ]
  },
  {
   "cell_type": "markdown",
   "metadata": {},
   "source": [
    "## 3-Resizing Images\n",
    "#### We will use __resize()__ function to fit the images to a desired size. Our original image has __325 rows__ and __579 columns__. Let set the rows and columns to __120__ and __250__ respectively. \n",
    "\n",
    "#### We can try different resizing methods with OpenCV. We call those methods __Interpolation Methods__:\n",
    "* __Nearest neighbor interpolation (cv2.INTER_NEAREST):__ Applies nearest neighbor interpolation. In this method, the nearest pixel values are copied over. This usually results in not very pleasent results. The image mostly looks jagged.\n",
    "* __Linear interpolation (cv2.INTER_LINEAR):__ Applies linear interpolation. It fixes the jagged appereance we have after nearest neighbor interpolation by averaging pixel values. Gives smoother results than nearest neighbor method.\n",
    "* __Bicubic interpolation (cv2.INTER_CUBIC):__ Applies bicubic interpolation. It usually gives smoother results than linear interpolation.\n"
   ]
  },
  {
   "cell_type": "code",
   "execution_count": null,
   "metadata": {},
   "outputs": [],
   "source": [
    "import numpy as np\n",
    "import matplotlib.pyplot as plt\n",
    "\n",
    "# Let's use the RGB channel image\n",
    "image_color_order_changed = cv2.cvtColor(image, cv2.COLOR_BGR2RGB)\n",
    "\n",
    "fig=plt.figure(figsize=(20, 50))\n",
    "\n",
    "nearest_neighbor_resized_im = cv2.resize(image_color_order_changed, dsize=(250, 120), interpolation=cv2.INTER_NEAREST)\n",
    "linear_interp_resized_im = cv2.resize(image_color_order_changed, dsize=(250, 120), interpolation=cv2.INTER_LINEAR)\n",
    "bicubic_interp_resized_im = cv2.resize(image_color_order_changed, dsize=(250, 120), interpolation=cv2.INTER_CUBIC)\n",
    "\n",
    "fig.add_subplot(1, 3, 1)\n",
    "plt.imshow(nearest_neighbor_resized_im)\n",
    "plt.title('Nearest Neighbor method')\n",
    "\n",
    "fig.add_subplot(1, 3, 2)\n",
    "plt.imshow(linear_interp_resized_im)\n",
    "plt.title('Linear Interpolation')\n",
    "\n",
    "fig.add_subplot(1, 3, 3)\n",
    "plt.imshow(bicubic_interp_resized_im)\n",
    "plt.title('Bicubic Interpolation')\n",
    "\n",
    "plt.show()"
   ]
  }
 ],
 "metadata": {
  "kernelspec": {
   "display_name": "conda_python3",
   "language": "python",
   "name": "conda_python3"
  },
  "language_info": {
   "codemirror_mode": {
    "name": "ipython",
    "version": 3
   },
   "file_extension": ".py",
   "mimetype": "text/x-python",
   "name": "python",
   "nbconvert_exporter": "python",
   "pygments_lexer": "ipython3",
   "version": "3.6.5"
  }
 },
 "nbformat": 4,
 "nbformat_minor": 2
}
