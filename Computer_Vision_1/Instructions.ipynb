{
 "cells": [
  {
   "cell_type": "markdown",
   "metadata": {},
   "source": [
    "# Computer Vision 1 \n",
    "\n",
    "## Intro - Introduction to ML and Setup\n",
    "\n",
    "1. Watch all of the intro [videos](https://w.amazon.com/bin/view/MachineLearningUniversity/Video). \n",
    "2. [Set up SageMaker](../Setup.ipynb). \n",
    "3. Be sure to run additional setup steps for the course listed below.\n",
    "4. Add your name to the [roster sheet](https://quip-amazon.com/VKZiAgpGAutu/AAOD-Training). Contact the workshop leader for access issues.\n",
    "5. Make sure you have the office hours meeting invite.\n",
    "6. Make sure you are in added to the training chime room. \n",
    "7. Don't be shy. Come with questions to office hours sessions, or ask in chime room.\n",
    "\n",
    "> When working though notebooks, take the time to understand what every cell is doing. Read API docs, add your own code modifications, and go through related tutorials for new modules you have not worked with before. It is easy to just \"run\" though the notebook, but you will not learn anything by just clicking \"run\"!\n",
    "\n",
    "## Lesson 1 - ML Lifecycle, Image Processing, Intro to Neural Networks\n",
    "\n",
    "1. Read all the [day 1 lessons](https://mla.corp.amazon.com/computer-vision-i/day-1-computer-vision/)\n",
    "2. If you need more help on frameworks, these [tutorials](https://mla.corp.amazon.com/computer-vision-i/day-1-computer-vision/libraries-and-frameworks/) will help. **Ignore all links to Eider notebooks** contained in the lessons. Use the corresponding notebooks in the [Lesson 1 folder](./Lesson_1). It is recommended you spend time this week running through **all the tutorials on this page**. These are all fundamental skills you need to have in order for this course and future courses to make sense.\n",
    "3. [Watch the day 1 lecture](https://drive.corp.amazon.com/documents/MLU%20Lectures/MLA/CV/March%2023-25,%202020/MLA-CV_DAY1_BRENT.mp4). Refer back to reading materials, ask question in chime, and stop and take tutorials for topics you don't understand.\n",
    "4. Work through the lab for this lesson [image classificatio lab](Lesson_1/Gluon_image_classification_example.ipynb)\n",
    "5. Attempt your first [submission](Submission_and_dataset_access.ipynb) using the test data set on a trained model. The leader board resets every Saturday, and is used globally.\n",
    "\n",
    "## Lesson 2 - Convolutional Neural Networks and Transfer Learning\n",
    "\n",
    "1. Read all the [day 2 lessons](https://mla.corp.amazon.com/computer-vision-i/day-2-computer-vision/). \n",
    "2. [Watch the day 2 lecture](https://drive.corp.amazon.com/documents/MLU%20Lectures/MLA/CV/March%2023-25,%202020/MLA-CV_DAY2_BRENT.mp4). \n",
    "3. Work through the lab for [Transfer learning example](Lesson_2/Transfer_learning_example.ipynb). There are additional [tutorial notebooks](Lesson_2).\n",
    "4. [Re-submit](Submission_and_dataset_access.ipynb) results based on your learnings from this lesson.\n",
    "\n",
    "## Lesson 3 - Convolutional Neural Networks and Transfer Learning\n",
    "1. Read all the [day 3 lessons](https://mla.corp.amazon.com/computer-vision-i/day-3-computer-vision/). \n",
    "2. [Watch the day 3 lecture](https://drive.corp.amazon.com/documents/MLU%20Lectures/MLA/CV/March%2023-25,%202020/MLA-CV_DAY3_BRENT.mp4). \n",
    "3. Work through the lab for [Balancing_datasets_and_data_augmentation](Lesson_3/Balancing_datasets_and_data_augmentation.ipynb). There is also a [notebook with model zoo implementation of Resnet and Yolo](Lesson_3/detectors.ipynb). \n",
    "4. [Re-submit](Submission_and_dataset_access.ipynb) results based on your learnings from this lesson.\n",
    "\n",
    "\n",
    "## Additional Resources\n",
    "[Gluon CV Tutorial](https://gluon-cv.mxnet.io/tutorials/index.html)\n",
    "\n",
    "> Bonus points if you modify this notebook and send a pull request..."
   ]
  },
  {
   "cell_type": "markdown",
   "metadata": {},
   "source": [
    "## Additional setup steps for this course\n",
    "\n",
    "### Update scikit image\n",
    "We may need to update the scikit-image module due to an [issue](https://github.com/numpy/numpy/issues/12744) that was resolved in later versions. Uncomment the below if you run into errors. **Be sure to restart your kernal if you re-install.**"
   ]
  },
  {
   "cell_type": "code",
   "execution_count": 7,
   "metadata": {},
   "outputs": [
    {
     "name": "stdout",
     "output_type": "stream",
     "text": [
      "Collecting numpy\n",
      "\u001b[?25l  Downloading https://files.pythonhosted.org/packages/03/27/e35e7c6e6a52fab9fcc64fc2b20c6b516eba930bb02b10ace3b38200d3ab/numpy-1.18.4-cp36-cp36m-manylinux1_x86_64.whl (20.2MB)\n",
      "\u001b[K    100% |████████████████████████████████| 20.2MB 2.1MB/s eta 0:00:01   19% |██████▎                         | 3.9MB 42.6MB/s eta 0:00:01\n",
      "\u001b[?25hCollecting pandas\n",
      "\u001b[?25l  Downloading https://files.pythonhosted.org/packages/bb/71/8f53bdbcbc67c912b888b40def255767e475402e9df64050019149b1a943/pandas-1.0.3-cp36-cp36m-manylinux1_x86_64.whl (10.0MB)\n",
      "\u001b[K    100% |████████████████████████████████| 10.0MB 3.4MB/s eta 0:00:01\n",
      "\u001b[?25hCollecting scikit-image\n",
      "\u001b[?25l  Downloading https://files.pythonhosted.org/packages/da/84/bbf4ff356597f0622c08a15250a6fb75d45b8af2bb6ac472f2b11ea9f4fb/scikit_image-0.17.0-cp36-cp36m-manylinux1_x86_64.whl (12.3MB)\n",
      "\u001b[K    100% |████████████████████████████████| 12.3MB 4.6MB/s eta 0:00:01\n",
      "\u001b[?25hRequirement already satisfied, skipping upgrade: pytz>=2017.2 in /usr/lib/python3.6/dist-packages (from pandas) (2019.3)\n",
      "Requirement already satisfied, skipping upgrade: python-dateutil>=2.6.1 in /usr/lib/python3.6/dist-packages (from pandas) (2.8.1)\n",
      "Requirement already satisfied, skipping upgrade: scipy>=1.0.1 in /usr/lib64/python3.6/dist-packages (from scikit-image) (1.4.1)\n",
      "Requirement already satisfied, skipping upgrade: pillow!=7.1.0,!=7.1.1,>=4.3.0 in /usr/lib64/python3.6/dist-packages (from scikit-image) (7.0.0)\n",
      "Requirement already satisfied, skipping upgrade: matplotlib!=3.0.0,>=2.0.0 in /usr/lib64/python3.6/dist-packages (from scikit-image) (3.1.3)\n",
      "Requirement already satisfied, skipping upgrade: imageio>=2.3.0 in /usr/lib/python3.6/dist-packages (from scikit-image) (2.8.0)\n",
      "Collecting pooch>=0.5.2 (from scikit-image)\n",
      "\u001b[?25l  Downloading https://files.pythonhosted.org/packages/66/ad/df0a1023b40c122d6e7c01ea1ebb69b04c6c5f97871df1dc863cb77c78e4/pooch-1.1.0-py3-none-any.whl (44kB)\n",
      "\u001b[K    100% |████████████████████████████████| 51kB 26.1MB/s ta 0:00:01\n",
      "\u001b[?25hCollecting tifffile>=2019.7.26 (from scikit-image)\n",
      "\u001b[?25l  Downloading https://files.pythonhosted.org/packages/36/32/de9302699721557ba79aa9889543d34ce45713d8b174d8abbe9dc570d3b8/tifffile-2020.5.7-py3-none-any.whl (136kB)\n",
      "\u001b[K    100% |████████████████████████████████| 143kB 38.0MB/s ta 0:00:01\n",
      "\u001b[?25hRequirement already satisfied, skipping upgrade: PyWavelets>=1.1.1 in /usr/lib64/python3.6/dist-packages (from scikit-image) (1.1.1)\n",
      "Requirement already satisfied, skipping upgrade: networkx>=2.0 in /usr/lib/python3.6/dist-packages (from scikit-image) (2.4)\n",
      "Requirement already satisfied, skipping upgrade: six>=1.5 in /usr/lib/python3.6/dist-packages (from python-dateutil>=2.6.1->pandas) (1.14.0)\n",
      "Requirement already satisfied, skipping upgrade: pyparsing!=2.0.4,!=2.1.2,!=2.1.6,>=2.0.1 in /usr/lib/python3.6/dist-packages (from matplotlib!=3.0.0,>=2.0.0->scikit-image) (2.4.6)\n",
      "Requirement already satisfied, skipping upgrade: kiwisolver>=1.0.1 in /usr/lib64/python3.6/dist-packages (from matplotlib!=3.0.0,>=2.0.0->scikit-image) (1.1.0)\n",
      "Requirement already satisfied, skipping upgrade: cycler>=0.10 in /usr/lib/python3.6/dist-packages (from matplotlib!=3.0.0,>=2.0.0->scikit-image) (0.10.0)\n",
      "Collecting appdirs (from pooch>=0.5.2->scikit-image)\n",
      "  Downloading https://files.pythonhosted.org/packages/56/eb/810e700ed1349edde4cbdc1b2a21e28cdf115f9faf263f6bbf8447c1abf3/appdirs-1.4.3-py2.py3-none-any.whl\n",
      "Requirement already satisfied, skipping upgrade: requests in /usr/lib/python3.6/dist-packages (from pooch>=0.5.2->scikit-image) (2.20.0)\n",
      "Requirement already satisfied, skipping upgrade: packaging in /usr/lib/python3.6/dist-packages (from pooch>=0.5.2->scikit-image) (20.1)\n",
      "Collecting imagecodecs>=2020.2.18 (from tifffile>=2019.7.26->scikit-image)\n",
      "\u001b[?25l  Downloading https://files.pythonhosted.org/packages/9a/8e/d3fe77a4e6442b20d0b25fe19c04fde2844f2db4370bf4daec6403834052/imagecodecs-2020.2.18-cp36-cp36m-manylinux2010_x86_64.whl (19.3MB)\n",
      "\u001b[K    100% |████████████████████████████████| 19.3MB 2.5MB/s eta 0:00:01\n",
      "\u001b[?25hRequirement already satisfied, skipping upgrade: decorator>=4.3.0 in /usr/lib/python3.6/dist-packages (from networkx>=2.0->scikit-image) (4.4.2)\n",
      "Requirement already satisfied, skipping upgrade: setuptools in /usr/lib/python3.6/dist-packages (from kiwisolver>=1.0.1->matplotlib!=3.0.0,>=2.0.0->scikit-image) (45.2.0)\n",
      "Requirement already satisfied, skipping upgrade: chardet<3.1.0,>=3.0.2 in /usr/lib/python3.6/dist-packages (from requests->pooch>=0.5.2->scikit-image) (3.0.4)\n",
      "Requirement already satisfied, skipping upgrade: certifi>=2017.4.17 in /usr/lib/python3.6/dist-packages (from requests->pooch>=0.5.2->scikit-image) (2019.11.28)\n",
      "Requirement already satisfied, skipping upgrade: urllib3<1.25,>=1.21.1 in /usr/lib/python3.6/dist-packages (from requests->pooch>=0.5.2->scikit-image) (1.24.3)\n",
      "Requirement already satisfied, skipping upgrade: idna<2.8,>=2.5 in /usr/lib/python3.6/dist-packages (from requests->pooch>=0.5.2->scikit-image) (2.7)\n",
      "\u001b[31mcoremltools 2.0 has requirement six==1.10.0, but you'll have six 1.14.0 which is incompatible.\u001b[0m\n",
      "Installing collected packages: numpy, pandas, appdirs, pooch, imagecodecs, tifffile, scikit-image\n",
      "  Found existing installation: numpy 1.18.1\n",
      "    Uninstalling numpy-1.18.1:\n",
      "      Successfully uninstalled numpy-1.18.1\n",
      "\u001b[33m  The scripts f2py, f2py3 and f2py3.6 are installed in '/usr/local/bin' which is not on PATH.\n",
      "  Consider adding this directory to PATH or, if you prefer to suppress this warning, use --no-warn-script-location.\u001b[0m\n",
      "  Found existing installation: pandas 0.24.2\n",
      "    Uninstalling pandas-0.24.2:\n",
      "      Successfully uninstalled pandas-0.24.2\n",
      "\u001b[33m  The script imagecodecs is installed in '/usr/local/bin' which is not on PATH.\n",
      "  Consider adding this directory to PATH or, if you prefer to suppress this warning, use --no-warn-script-location.\u001b[0m\n",
      "\u001b[33m  The scripts lsm2bin and tifffile are installed in '/usr/local/bin' which is not on PATH.\n",
      "  Consider adding this directory to PATH or, if you prefer to suppress this warning, use --no-warn-script-location.\u001b[0m\n",
      "  Found existing installation: scikit-image 0.15.0\n",
      "    Uninstalling scikit-image-0.15.0:\n",
      "      Successfully uninstalled scikit-image-0.15.0\n",
      "\u001b[33m  The script skivi is installed in '/usr/local/bin' which is not on PATH.\n",
      "  Consider adding this directory to PATH or, if you prefer to suppress this warning, use --no-warn-script-location.\u001b[0m\n",
      "Successfully installed appdirs-1.4.3 imagecodecs-2020.2.18 numpy-1.18.4 pandas-1.0.3 pooch-1.1.0 scikit-image-0.17.0 tifffile-2020.5.7\n",
      "\u001b[33mYou are using pip version 19.0.2, however version 20.1 is available.\n",
      "You should consider upgrading via the 'pip install --upgrade pip' command.\u001b[0m\n"
     ]
    }
   ],
   "source": [
    "!sudo pip install -U numpy pandas scikit-image "
   ]
  },
  {
   "cell_type": "markdown",
   "metadata": {},
   "source": [
    "### Download data\n",
    "All the data needed for the lab is available via cloud front."
   ]
  },
  {
   "cell_type": "code",
   "execution_count": 8,
   "metadata": {},
   "outputs": [
    {
     "name": "stdout",
     "output_type": "stream",
     "text": [
      "downloading example_dataset.pkl\n",
      "downloading training_data.pkl\n",
      "downloading test_data.pkl\n",
      "downloading sample_model_output.csv\n"
     ]
    }
   ],
   "source": [
    "import urllib.request\n",
    "\n",
    "cloud_front_url = 'https://d8mrh1kj01ho9.cloudfront.net/workshop/cv1/data/'\n",
    "file_names = 'example_dataset.pkl,training_data.pkl,test_data.pkl,sample_model_output.csv'.split(',')\n",
    "\n",
    "for file_name in file_names:\n",
    "    print('downloading '+file_name)\n",
    "    urllib.request.urlretrieve (cloud_front_url + file_name, '/tmp/'+file_name)"
   ]
  },
  {
   "cell_type": "code",
   "execution_count": null,
   "metadata": {},
   "outputs": [],
   "source": []
  }
 ],
 "metadata": {
  "kernelspec": {
   "display_name": "conda_mxnet_p36",
   "language": "python",
   "name": "conda_mxnet_p36"
  },
  "language_info": {
   "codemirror_mode": {
    "name": "ipython",
    "version": 3
   },
   "file_extension": ".py",
   "mimetype": "text/x-python",
   "name": "python",
   "nbconvert_exporter": "python",
   "pygments_lexer": "ipython3",
   "version": "3.6.5"
  }
 },
 "nbformat": 4,
 "nbformat_minor": 4
}
