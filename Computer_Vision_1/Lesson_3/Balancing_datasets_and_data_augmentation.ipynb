{
 "cells": [
  {
   "cell_type": "markdown",
   "metadata": {},
   "source": [
    "![MLA Logo](https://drive.corp.amazon.com/view/mrruckma@/MLA_headerv2.png?download=true)"
   ]
  },
  {
   "cell_type": "markdown",
   "metadata": {},
   "source": [
    "### BALANCING DATASET\n",
    "### 1-UPSAMPLING THE SMALL CLASSES\n",
    "#### Let's balance our sample dataset. We will upsample the small classes so that they all match the size of the largest class"
   ]
  },
  {
   "cell_type": "code",
   "execution_count": 1,
   "metadata": {},
   "outputs": [
    {
     "name": "stdout",
     "output_type": "stream",
     "text": [
      "     ID                                               data  class\n",
      "0  1417  [[[255, 255, 255], [255, 255, 255], [255, 255,...      3\n",
      "1   146  [[[255, 255, 255], [255, 255, 255], [255, 255,...      4\n",
      "2  2162  [[[239, 239, 239], [245, 245, 245], [248, 248,...      3\n",
      "3   261  [[[255, 255, 255], [255, 255, 255], [255, 255,...      3\n",
      "4  1243  [[[255, 255, 255], [255, 255, 255], [255, 255,...      4\n"
     ]
    }
   ],
   "source": [
    "import pandas as pd\n",
    "df = pd.read_pickle(\"/tmp/example_dataset.pkl\")\n",
    "print(df.head())"
   ]
  },
  {
   "cell_type": "markdown",
   "metadata": {},
   "source": [
    "#### Let's plot our dataset below.\n",
    "Class 3 is the dominant class. We will upsample all other data points."
   ]
  },
  {
   "cell_type": "code",
   "execution_count": 6,
   "metadata": {},
   "outputs": [
    {
     "data": {
      "image/png": "[encoded data removed]",
      "text/plain": [
       "<Figure size 432x288 with 1 Axes>"
      ]
     },
     "metadata": {},
     "output_type": "display_data"
    }
   ],
   "source": [
    "import matplotlib.pyplot as plt\n",
    "import seaborn as sb\n",
    "\n",
    "plt.figure()\n",
    "ax = sb.countplot(x=df[\"class\"].values, y = None)\n",
    "for p in ax.patches:\n",
    "    x=p.get_bbox().get_points()[:,0]\n",
    "    y=p.get_bbox().get_points()[1,1]\n",
    "    ax.annotate(y, (x.mean(), y), ha='center', va='bottom') \n",
    "plt.xticks(rotation=60)\n",
    "plt.title('Number of records in each class')\n",
    "plt.show()"
   ]
  },
  {
   "cell_type": "markdown",
   "metadata": {},
   "source": [
    "Let's get all records grouped by their classses"
   ]
  },
  {
   "cell_type": "code",
   "execution_count": 7,
   "metadata": {},
   "outputs": [],
   "source": [
    "class_0 = df.loc[df['class'] == 0]\n",
    "class_1 = df.loc[df['class'] == 1]\n",
    "class_2 = df.loc[df['class'] == 2]\n",
    "class_3 = df.loc[df['class'] == 3]\n",
    "class_4 = df.loc[df['class'] == 4]"
   ]
  },
  {
   "cell_type": "markdown",
   "metadata": {},
   "source": [
    "We will make use sklearn library to upsample small classes and shuffle the whole data frame at the end."
   ]
  },
  {
   "cell_type": "code",
   "execution_count": 8,
   "metadata": {},
   "outputs": [],
   "source": [
    "from sklearn.utils import resample\n",
    "from sklearn.utils import shuffle\n",
    "\n",
    "upsampled_class_0 = resample(class_0, \n",
    "                             replace=True, # sample with replacement\n",
    "                             n_samples=len(class_3), # upsample to match class 3\n",
    "                             random_state=123 # reproducible result\n",
    "                            )\n",
    "upsampled_class_1 = resample(class_1, \n",
    "                             replace=True, # sample with replacement\n",
    "                             n_samples=len(class_3), # upsample to match class 3\n",
    "                             random_state=123 # reproducible result\n",
    "                            )\n",
    "upsampled_class_2 = resample(class_2, \n",
    "                             replace=True, # sample with replacement\n",
    "                             n_samples=len(class_3), # upsample to match class 3\n",
    "                             random_state=123 # reproducible result\n",
    "                            )\n",
    "upsampled_class_4 = resample(class_4, \n",
    "                             replace=True, # sample with replacement\n",
    "                             n_samples=len(class_3), # upsample to match class 3\n",
    "                             random_state=123 # reproducible result\n",
    "                            )\n",
    "\n",
    "df_upsampled = pd.concat([upsampled_class_0, \n",
    "                          upsampled_class_1,\n",
    "                          upsampled_class_2,\n",
    "                          class_3,\n",
    "                          upsampled_class_4,\n",
    "                         ])\n",
    "\n",
    "# We put all records in order by their class, let's shuffle everything\n",
    "df_upsampled = shuffle(df_upsampled)"
   ]
  },
  {
   "cell_type": "code",
   "execution_count": 9,
   "metadata": {},
   "outputs": [
    {
     "data": {
      "image/png": "[encoded data removed]",
      "text/plain": [
       "<Figure size 432x288 with 1 Axes>"
      ]
     },
     "metadata": {},
     "output_type": "display_data"
    }
   ],
   "source": [
    "import matplotlib.pyplot as plt\n",
    "import seaborn as sb\n",
    "\n",
    "plt.figure()\n",
    "ax = sb.countplot(x=df_upsampled[\"class\"].values, y = None)\n",
    "for p in ax.patches:\n",
    "    x=p.get_bbox().get_points()[:,0]\n",
    "    y=p.get_bbox().get_points()[1,1]\n",
    "    ax.annotate(y, (x.mean(), y), ha='center', va='bottom') \n",
    "plt.xticks(rotation=60)\n",
    "plt.title('Number of records in each class')\n",
    "plt.show()"
   ]
  },
  {
   "cell_type": "markdown",
   "metadata": {},
   "source": [
    "### 2-DATA AUGMENTATION (CREATE NEW SIMILAR DATA POINTS)"
   ]
  },
  {
   "cell_type": "markdown",
   "metadata": {},
   "source": [
    "We will make use of some simple sklearn and numpy functions to create slightly changed images.\n",
    "#### __1-Rotate image:__ This will rotate the image for a given number of angle. \n",
    "#### __2-Random noise:__ This adds random noise to image\n",
    "#### __3-Flip image:__ We can flip the image horizontally or vertically"
   ]
  },
  {
   "cell_type": "code",
   "execution_count": null,
   "metadata": {},
   "outputs": [],
   "source": [
    "import random\n",
    "import skimage as sk\n",
    "from skimage import transform\n",
    "from skimage import util\n",
    "import numpy as np\n",
    "\n",
    "# Rotate the image with a given angle\n",
    "def rotate_image(image_array, angle):\n",
    "    # Rotate the image by the given angle \n",
    "    # We usually have white background in images, \n",
    "    # we will fill 1s (white) for the areas outside of image boundaries\n",
    "    return sk.transform.rotate(image_array, angle, cval=1)\n",
    "\n",
    "# Add random noise to image\n",
    "def random_noise(image_array):\n",
    "    # add random noise to the image\n",
    "    return sk.util.random_noise(image_array)\n",
    "    \n",
    "# Flip the image at a given axis\n",
    "def image_flip(image_array, axis):\n",
    "    # axis=0 => vertical flip\n",
    "    # axis=1 => horizontal flip\n",
    "    return np.flip(image_array, axis=axis)"
   ]
  },
  {
   "cell_type": "code",
   "execution_count": null,
   "metadata": {},
   "outputs": [],
   "source": [
    "import matplotlib.pyplot as plt\n",
    "\n",
    "image = df['data'][25]\n",
    "plt.imshow(image)"
   ]
  },
  {
   "cell_type": "markdown",
   "metadata": {},
   "source": [
    "#### __1-Rotate image:__"
   ]
  },
  {
   "cell_type": "code",
   "execution_count": null,
   "metadata": {},
   "outputs": [],
   "source": [
    "# Rotate by 30 degrees\n",
    "plt.imshow(rotate_image(image, 30))"
   ]
  },
  {
   "cell_type": "code",
   "execution_count": null,
   "metadata": {},
   "outputs": [],
   "source": [
    "# Rotate by -30 degrees\n",
    "plt.imshow(rotate_image(image, -30))"
   ]
  },
  {
   "cell_type": "markdown",
   "metadata": {},
   "source": [
    "#### __2-Random Noise:__"
   ]
  },
  {
   "cell_type": "code",
   "execution_count": null,
   "metadata": {},
   "outputs": [],
   "source": [
    "# Add random noise to image\n",
    "plt.imshow(random_noise(image))"
   ]
  },
  {
   "cell_type": "markdown",
   "metadata": {},
   "source": [
    "#### __3-Flip the image:__"
   ]
  },
  {
   "cell_type": "code",
   "execution_count": null,
   "metadata": {},
   "outputs": [],
   "source": [
    "# Flip the image vertically\n",
    "plt.imshow(image_flip(image, 0))"
   ]
  },
  {
   "cell_type": "code",
   "execution_count": null,
   "metadata": {},
   "outputs": [],
   "source": [
    "# Flip the image vertically\n",
    "plt.imshow(image_flip(image, 1))"
   ]
  }
 ],
 "metadata": {
  "kernelspec": {
   "display_name": "conda_mxnet_p36",
   "language": "python",
   "name": "conda_mxnet_p36"
  },
  "language_info": {
   "codemirror_mode": {
    "name": "ipython",
    "version": 3
   },
   "file_extension": ".py",
   "mimetype": "text/x-python",
   "name": "python",
   "nbconvert_exporter": "python",
   "pygments_lexer": "ipython3",
   "version": "3.6.5"
  }
 },
 "nbformat": 4,
 "nbformat_minor": 4
}
